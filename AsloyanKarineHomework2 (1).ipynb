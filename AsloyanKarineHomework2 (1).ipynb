{
  "nbformat": 4,
  "nbformat_minor": 0,
  "metadata": {
    "colab": {
      "provenance": []
    },
    "kernelspec": {
      "name": "python3",
      "display_name": "Python 3"
    },
    "language_info": {
      "name": "python"
    }
  },
  "cells": [
    {
      "cell_type": "code",
      "execution_count": null,
      "metadata": {
        "id": "T2lwwCjlOwEu"
      },
      "outputs": [],
      "source": [
        "import pandas as pd\n",
        "import statsmodels.formula.api as sm\n",
        "import matplotlib.pyplot as plt"
      ]
    },
    {
      "cell_type": "code",
      "source": [
        "data = pd.read_csv(\"emp_data_2000_2014.csv\")"
      ],
      "metadata": {
        "id": "l1yqkWR2Rtjy"
      },
      "execution_count": null,
      "outputs": []
    },
    {
      "cell_type": "code",
      "source": [
        "data"
      ],
      "metadata": {
        "colab": {
          "base_uri": "https://localhost:8080/",
          "height": 423
        },
        "id": "0WVHysi7Ry0b",
        "outputId": "21548adb-173f-4a04-afd8-eae411e341d9"
      },
      "execution_count": null,
      "outputs": [
        {
          "output_type": "execute_result",
          "data": {
            "text/plain": [
              "        emp  age  syear                           state                  west  \\\n",
              "0         1   39   2000  [11] Berlin                 11  [1] West-Germany   1   \n",
              "1         1   40   2001  [11] Berlin                 11  [1] West-Germany   1   \n",
              "2         1   42   2002  [11] Berlin                 11  [1] West-Germany   1   \n",
              "3         1   43   2003  [11] Berlin                 11  [1] West-Germany   1   \n",
              "4         0   44   2004  [11] Berlin                 11  [1] West-Germany   1   \n",
              "...     ...  ...    ...                             ...                   ...   \n",
              "213587    1   22   2014  [3] Lower Saxony             3  [1] West-Germany   1   \n",
              "213588    1   25   2014  [10] Saarland               10  [1] West-Germany   1   \n",
              "213589    1   20   2014   [16] Thuringia             16                     0   \n",
              "213590    1   26   2014  [6] Hessen                   6  [1] West-Germany   1   \n",
              "213591    1   19   2014  [6] Hessen                   6  [1] West-Germany   1   \n",
              "\n",
              "           mig   edu  nchil                 marst                  male  \n",
              "0       German  18.0      0  [2] Single         2  [1] Male           1  \n",
              "1       German  18.0      0  [2] Single         2  [1] Male           1  \n",
              "2       German  18.0      0  [2] Single         2  [1] Male           1  \n",
              "3       German  18.0      0  [2] Single         2  [1] Male           1  \n",
              "4       German  18.0      0  [2] Single         2  [1] Male           1  \n",
              "...        ...   ...    ...                   ...                   ...  \n",
              "213587  German  11.5      0  [2] Single         2                     0  \n",
              "213588  German  11.5      0  [2] Single         2                     0  \n",
              "213589  German  13.0      0  [2] Single         2                     0  \n",
              "213590  German  18.0      0  [2] Single         2  [1] Male           1  \n",
              "213591  German  13.0      0  [2] Single         2  [1] Male           1  \n",
              "\n",
              "[213592 rows x 10 columns]"
            ],
            "text/html": [
              "\n",
              "  <div id=\"df-f5fde61b-9b06-4e0d-8827-2472171f43e9\" class=\"colab-df-container\">\n",
              "    <div>\n",
              "<style scoped>\n",
              "    .dataframe tbody tr th:only-of-type {\n",
              "        vertical-align: middle;\n",
              "    }\n",
              "\n",
              "    .dataframe tbody tr th {\n",
              "        vertical-align: top;\n",
              "    }\n",
              "\n",
              "    .dataframe thead th {\n",
              "        text-align: right;\n",
              "    }\n",
              "</style>\n",
              "<table border=\"1\" class=\"dataframe\">\n",
              "  <thead>\n",
              "    <tr style=\"text-align: right;\">\n",
              "      <th></th>\n",
              "      <th>emp</th>\n",
              "      <th>age</th>\n",
              "      <th>syear</th>\n",
              "      <th>state</th>\n",
              "      <th>west</th>\n",
              "      <th>mig</th>\n",
              "      <th>edu</th>\n",
              "      <th>nchil</th>\n",
              "      <th>marst</th>\n",
              "      <th>male</th>\n",
              "    </tr>\n",
              "  </thead>\n",
              "  <tbody>\n",
              "    <tr>\n",
              "      <th>0</th>\n",
              "      <td>1</td>\n",
              "      <td>39</td>\n",
              "      <td>2000</td>\n",
              "      <td>[11] Berlin                 11</td>\n",
              "      <td>[1] West-Germany   1</td>\n",
              "      <td>German</td>\n",
              "      <td>18.0</td>\n",
              "      <td>0</td>\n",
              "      <td>[2] Single         2</td>\n",
              "      <td>[1] Male           1</td>\n",
              "    </tr>\n",
              "    <tr>\n",
              "      <th>1</th>\n",
              "      <td>1</td>\n",
              "      <td>40</td>\n",
              "      <td>2001</td>\n",
              "      <td>[11] Berlin                 11</td>\n",
              "      <td>[1] West-Germany   1</td>\n",
              "      <td>German</td>\n",
              "      <td>18.0</td>\n",
              "      <td>0</td>\n",
              "      <td>[2] Single         2</td>\n",
              "      <td>[1] Male           1</td>\n",
              "    </tr>\n",
              "    <tr>\n",
              "      <th>2</th>\n",
              "      <td>1</td>\n",
              "      <td>42</td>\n",
              "      <td>2002</td>\n",
              "      <td>[11] Berlin                 11</td>\n",
              "      <td>[1] West-Germany   1</td>\n",
              "      <td>German</td>\n",
              "      <td>18.0</td>\n",
              "      <td>0</td>\n",
              "      <td>[2] Single         2</td>\n",
              "      <td>[1] Male           1</td>\n",
              "    </tr>\n",
              "    <tr>\n",
              "      <th>3</th>\n",
              "      <td>1</td>\n",
              "      <td>43</td>\n",
              "      <td>2003</td>\n",
              "      <td>[11] Berlin                 11</td>\n",
              "      <td>[1] West-Germany   1</td>\n",
              "      <td>German</td>\n",
              "      <td>18.0</td>\n",
              "      <td>0</td>\n",
              "      <td>[2] Single         2</td>\n",
              "      <td>[1] Male           1</td>\n",
              "    </tr>\n",
              "    <tr>\n",
              "      <th>4</th>\n",
              "      <td>0</td>\n",
              "      <td>44</td>\n",
              "      <td>2004</td>\n",
              "      <td>[11] Berlin                 11</td>\n",
              "      <td>[1] West-Germany   1</td>\n",
              "      <td>German</td>\n",
              "      <td>18.0</td>\n",
              "      <td>0</td>\n",
              "      <td>[2] Single         2</td>\n",
              "      <td>[1] Male           1</td>\n",
              "    </tr>\n",
              "    <tr>\n",
              "      <th>...</th>\n",
              "      <td>...</td>\n",
              "      <td>...</td>\n",
              "      <td>...</td>\n",
              "      <td>...</td>\n",
              "      <td>...</td>\n",
              "      <td>...</td>\n",
              "      <td>...</td>\n",
              "      <td>...</td>\n",
              "      <td>...</td>\n",
              "      <td>...</td>\n",
              "    </tr>\n",
              "    <tr>\n",
              "      <th>213587</th>\n",
              "      <td>1</td>\n",
              "      <td>22</td>\n",
              "      <td>2014</td>\n",
              "      <td>[3] Lower Saxony             3</td>\n",
              "      <td>[1] West-Germany   1</td>\n",
              "      <td>German</td>\n",
              "      <td>11.5</td>\n",
              "      <td>0</td>\n",
              "      <td>[2] Single         2</td>\n",
              "      <td>0</td>\n",
              "    </tr>\n",
              "    <tr>\n",
              "      <th>213588</th>\n",
              "      <td>1</td>\n",
              "      <td>25</td>\n",
              "      <td>2014</td>\n",
              "      <td>[10] Saarland               10</td>\n",
              "      <td>[1] West-Germany   1</td>\n",
              "      <td>German</td>\n",
              "      <td>11.5</td>\n",
              "      <td>0</td>\n",
              "      <td>[2] Single         2</td>\n",
              "      <td>0</td>\n",
              "    </tr>\n",
              "    <tr>\n",
              "      <th>213589</th>\n",
              "      <td>1</td>\n",
              "      <td>20</td>\n",
              "      <td>2014</td>\n",
              "      <td>[16] Thuringia             16</td>\n",
              "      <td>0</td>\n",
              "      <td>German</td>\n",
              "      <td>13.0</td>\n",
              "      <td>0</td>\n",
              "      <td>[2] Single         2</td>\n",
              "      <td>0</td>\n",
              "    </tr>\n",
              "    <tr>\n",
              "      <th>213590</th>\n",
              "      <td>1</td>\n",
              "      <td>26</td>\n",
              "      <td>2014</td>\n",
              "      <td>[6] Hessen                   6</td>\n",
              "      <td>[1] West-Germany   1</td>\n",
              "      <td>German</td>\n",
              "      <td>18.0</td>\n",
              "      <td>0</td>\n",
              "      <td>[2] Single         2</td>\n",
              "      <td>[1] Male           1</td>\n",
              "    </tr>\n",
              "    <tr>\n",
              "      <th>213591</th>\n",
              "      <td>1</td>\n",
              "      <td>19</td>\n",
              "      <td>2014</td>\n",
              "      <td>[6] Hessen                   6</td>\n",
              "      <td>[1] West-Germany   1</td>\n",
              "      <td>German</td>\n",
              "      <td>13.0</td>\n",
              "      <td>0</td>\n",
              "      <td>[2] Single         2</td>\n",
              "      <td>[1] Male           1</td>\n",
              "    </tr>\n",
              "  </tbody>\n",
              "</table>\n",
              "<p>213592 rows × 10 columns</p>\n",
              "</div>\n",
              "    <div class=\"colab-df-buttons\">\n",
              "\n",
              "  <div class=\"colab-df-container\">\n",
              "    <button class=\"colab-df-convert\" onclick=\"convertToInteractive('df-f5fde61b-9b06-4e0d-8827-2472171f43e9')\"\n",
              "            title=\"Convert this dataframe to an interactive table.\"\n",
              "            style=\"display:none;\">\n",
              "\n",
              "  <svg xmlns=\"http://www.w3.org/2000/svg\" height=\"24px\" viewBox=\"0 -960 960 960\">\n",
              "    <path d=\"M120-120v-720h720v720H120Zm60-500h600v-160H180v160Zm220 220h160v-160H400v160Zm0 220h160v-160H400v160ZM180-400h160v-160H180v160Zm440 0h160v-160H620v160ZM180-180h160v-160H180v160Zm440 0h160v-160H620v160Z\"/>\n",
              "  </svg>\n",
              "    </button>\n",
              "\n",
              "  <style>\n",
              "    .colab-df-container {\n",
              "      display:flex;\n",
              "      gap: 12px;\n",
              "    }\n",
              "\n",
              "    .colab-df-convert {\n",
              "      background-color: #E8F0FE;\n",
              "      border: none;\n",
              "      border-radius: 50%;\n",
              "      cursor: pointer;\n",
              "      display: none;\n",
              "      fill: #1967D2;\n",
              "      height: 32px;\n",
              "      padding: 0 0 0 0;\n",
              "      width: 32px;\n",
              "    }\n",
              "\n",
              "    .colab-df-convert:hover {\n",
              "      background-color: #E2EBFA;\n",
              "      box-shadow: 0px 1px 2px rgba(60, 64, 67, 0.3), 0px 1px 3px 1px rgba(60, 64, 67, 0.15);\n",
              "      fill: #174EA6;\n",
              "    }\n",
              "\n",
              "    .colab-df-buttons div {\n",
              "      margin-bottom: 4px;\n",
              "    }\n",
              "\n",
              "    [theme=dark] .colab-df-convert {\n",
              "      background-color: #3B4455;\n",
              "      fill: #D2E3FC;\n",
              "    }\n",
              "\n",
              "    [theme=dark] .colab-df-convert:hover {\n",
              "      background-color: #434B5C;\n",
              "      box-shadow: 0px 1px 3px 1px rgba(0, 0, 0, 0.15);\n",
              "      filter: drop-shadow(0px 1px 2px rgba(0, 0, 0, 0.3));\n",
              "      fill: #FFFFFF;\n",
              "    }\n",
              "  </style>\n",
              "\n",
              "    <script>\n",
              "      const buttonEl =\n",
              "        document.querySelector('#df-f5fde61b-9b06-4e0d-8827-2472171f43e9 button.colab-df-convert');\n",
              "      buttonEl.style.display =\n",
              "        google.colab.kernel.accessAllowed ? 'block' : 'none';\n",
              "\n",
              "      async function convertToInteractive(key) {\n",
              "        const element = document.querySelector('#df-f5fde61b-9b06-4e0d-8827-2472171f43e9');\n",
              "        const dataTable =\n",
              "          await google.colab.kernel.invokeFunction('convertToInteractive',\n",
              "                                                    [key], {});\n",
              "        if (!dataTable) return;\n",
              "\n",
              "        const docLinkHtml = 'Like what you see? Visit the ' +\n",
              "          '<a target=\"_blank\" href=https://colab.research.google.com/notebooks/data_table.ipynb>data table notebook</a>'\n",
              "          + ' to learn more about interactive tables.';\n",
              "        element.innerHTML = '';\n",
              "        dataTable['output_type'] = 'display_data';\n",
              "        await google.colab.output.renderOutput(dataTable, element);\n",
              "        const docLink = document.createElement('div');\n",
              "        docLink.innerHTML = docLinkHtml;\n",
              "        element.appendChild(docLink);\n",
              "      }\n",
              "    </script>\n",
              "  </div>\n",
              "\n",
              "\n",
              "<div id=\"df-f97cb582-7731-4130-9d01-ab05cd23a108\">\n",
              "  <button class=\"colab-df-quickchart\" onclick=\"quickchart('df-f97cb582-7731-4130-9d01-ab05cd23a108')\"\n",
              "            title=\"Suggest charts\"\n",
              "            style=\"display:none;\">\n",
              "\n",
              "<svg xmlns=\"http://www.w3.org/2000/svg\" height=\"24px\"viewBox=\"0 0 24 24\"\n",
              "     width=\"24px\">\n",
              "    <g>\n",
              "        <path d=\"M19 3H5c-1.1 0-2 .9-2 2v14c0 1.1.9 2 2 2h14c1.1 0 2-.9 2-2V5c0-1.1-.9-2-2-2zM9 17H7v-7h2v7zm4 0h-2V7h2v10zm4 0h-2v-4h2v4z\"/>\n",
              "    </g>\n",
              "</svg>\n",
              "  </button>\n",
              "\n",
              "<style>\n",
              "  .colab-df-quickchart {\n",
              "      --bg-color: #E8F0FE;\n",
              "      --fill-color: #1967D2;\n",
              "      --hover-bg-color: #E2EBFA;\n",
              "      --hover-fill-color: #174EA6;\n",
              "      --disabled-fill-color: #AAA;\n",
              "      --disabled-bg-color: #DDD;\n",
              "  }\n",
              "\n",
              "  [theme=dark] .colab-df-quickchart {\n",
              "      --bg-color: #3B4455;\n",
              "      --fill-color: #D2E3FC;\n",
              "      --hover-bg-color: #434B5C;\n",
              "      --hover-fill-color: #FFFFFF;\n",
              "      --disabled-bg-color: #3B4455;\n",
              "      --disabled-fill-color: #666;\n",
              "  }\n",
              "\n",
              "  .colab-df-quickchart {\n",
              "    background-color: var(--bg-color);\n",
              "    border: none;\n",
              "    border-radius: 50%;\n",
              "    cursor: pointer;\n",
              "    display: none;\n",
              "    fill: var(--fill-color);\n",
              "    height: 32px;\n",
              "    padding: 0;\n",
              "    width: 32px;\n",
              "  }\n",
              "\n",
              "  .colab-df-quickchart:hover {\n",
              "    background-color: var(--hover-bg-color);\n",
              "    box-shadow: 0 1px 2px rgba(60, 64, 67, 0.3), 0 1px 3px 1px rgba(60, 64, 67, 0.15);\n",
              "    fill: var(--button-hover-fill-color);\n",
              "  }\n",
              "\n",
              "  .colab-df-quickchart-complete:disabled,\n",
              "  .colab-df-quickchart-complete:disabled:hover {\n",
              "    background-color: var(--disabled-bg-color);\n",
              "    fill: var(--disabled-fill-color);\n",
              "    box-shadow: none;\n",
              "  }\n",
              "\n",
              "  .colab-df-spinner {\n",
              "    border: 2px solid var(--fill-color);\n",
              "    border-color: transparent;\n",
              "    border-bottom-color: var(--fill-color);\n",
              "    animation:\n",
              "      spin 1s steps(1) infinite;\n",
              "  }\n",
              "\n",
              "  @keyframes spin {\n",
              "    0% {\n",
              "      border-color: transparent;\n",
              "      border-bottom-color: var(--fill-color);\n",
              "      border-left-color: var(--fill-color);\n",
              "    }\n",
              "    20% {\n",
              "      border-color: transparent;\n",
              "      border-left-color: var(--fill-color);\n",
              "      border-top-color: var(--fill-color);\n",
              "    }\n",
              "    30% {\n",
              "      border-color: transparent;\n",
              "      border-left-color: var(--fill-color);\n",
              "      border-top-color: var(--fill-color);\n",
              "      border-right-color: var(--fill-color);\n",
              "    }\n",
              "    40% {\n",
              "      border-color: transparent;\n",
              "      border-right-color: var(--fill-color);\n",
              "      border-top-color: var(--fill-color);\n",
              "    }\n",
              "    60% {\n",
              "      border-color: transparent;\n",
              "      border-right-color: var(--fill-color);\n",
              "    }\n",
              "    80% {\n",
              "      border-color: transparent;\n",
              "      border-right-color: var(--fill-color);\n",
              "      border-bottom-color: var(--fill-color);\n",
              "    }\n",
              "    90% {\n",
              "      border-color: transparent;\n",
              "      border-bottom-color: var(--fill-color);\n",
              "    }\n",
              "  }\n",
              "</style>\n",
              "\n",
              "  <script>\n",
              "    async function quickchart(key) {\n",
              "      const quickchartButtonEl =\n",
              "        document.querySelector('#' + key + ' button');\n",
              "      quickchartButtonEl.disabled = true;  // To prevent multiple clicks.\n",
              "      quickchartButtonEl.classList.add('colab-df-spinner');\n",
              "      try {\n",
              "        const charts = await google.colab.kernel.invokeFunction(\n",
              "            'suggestCharts', [key], {});\n",
              "      } catch (error) {\n",
              "        console.error('Error during call to suggestCharts:', error);\n",
              "      }\n",
              "      quickchartButtonEl.classList.remove('colab-df-spinner');\n",
              "      quickchartButtonEl.classList.add('colab-df-quickchart-complete');\n",
              "    }\n",
              "    (() => {\n",
              "      let quickchartButtonEl =\n",
              "        document.querySelector('#df-f97cb582-7731-4130-9d01-ab05cd23a108 button');\n",
              "      quickchartButtonEl.style.display =\n",
              "        google.colab.kernel.accessAllowed ? 'block' : 'none';\n",
              "    })();\n",
              "  </script>\n",
              "</div>\n",
              "\n",
              "  <div id=\"id_8a8b59a9-b657-4b9f-a50b-0c3c2447cebd\">\n",
              "    <style>\n",
              "      .colab-df-generate {\n",
              "        background-color: #E8F0FE;\n",
              "        border: none;\n",
              "        border-radius: 50%;\n",
              "        cursor: pointer;\n",
              "        display: none;\n",
              "        fill: #1967D2;\n",
              "        height: 32px;\n",
              "        padding: 0 0 0 0;\n",
              "        width: 32px;\n",
              "      }\n",
              "\n",
              "      .colab-df-generate:hover {\n",
              "        background-color: #E2EBFA;\n",
              "        box-shadow: 0px 1px 2px rgba(60, 64, 67, 0.3), 0px 1px 3px 1px rgba(60, 64, 67, 0.15);\n",
              "        fill: #174EA6;\n",
              "      }\n",
              "\n",
              "      [theme=dark] .colab-df-generate {\n",
              "        background-color: #3B4455;\n",
              "        fill: #D2E3FC;\n",
              "      }\n",
              "\n",
              "      [theme=dark] .colab-df-generate:hover {\n",
              "        background-color: #434B5C;\n",
              "        box-shadow: 0px 1px 3px 1px rgba(0, 0, 0, 0.15);\n",
              "        filter: drop-shadow(0px 1px 2px rgba(0, 0, 0, 0.3));\n",
              "        fill: #FFFFFF;\n",
              "      }\n",
              "    </style>\n",
              "    <button class=\"colab-df-generate\" onclick=\"generateWithVariable('data')\"\n",
              "            title=\"Generate code using this dataframe.\"\n",
              "            style=\"display:none;\">\n",
              "\n",
              "  <svg xmlns=\"http://www.w3.org/2000/svg\" height=\"24px\"viewBox=\"0 0 24 24\"\n",
              "       width=\"24px\">\n",
              "    <path d=\"M7,19H8.4L18.45,9,17,7.55,7,17.6ZM5,21V16.75L18.45,3.32a2,2,0,0,1,2.83,0l1.4,1.43a1.91,1.91,0,0,1,.58,1.4,1.91,1.91,0,0,1-.58,1.4L9.25,21ZM18.45,9,17,7.55Zm-12,3A5.31,5.31,0,0,0,4.9,8.1,5.31,5.31,0,0,0,1,6.5,5.31,5.31,0,0,0,4.9,4.9,5.31,5.31,0,0,0,6.5,1,5.31,5.31,0,0,0,8.1,4.9,5.31,5.31,0,0,0,12,6.5,5.46,5.46,0,0,0,6.5,12Z\"/>\n",
              "  </svg>\n",
              "    </button>\n",
              "    <script>\n",
              "      (() => {\n",
              "      const buttonEl =\n",
              "        document.querySelector('#id_8a8b59a9-b657-4b9f-a50b-0c3c2447cebd button.colab-df-generate');\n",
              "      buttonEl.style.display =\n",
              "        google.colab.kernel.accessAllowed ? 'block' : 'none';\n",
              "\n",
              "      buttonEl.onclick = () => {\n",
              "        google.colab.notebook.generateWithVariable('data');\n",
              "      }\n",
              "      })();\n",
              "    </script>\n",
              "  </div>\n",
              "\n",
              "    </div>\n",
              "  </div>\n"
            ],
            "application/vnd.google.colaboratory.intrinsic+json": {
              "type": "dataframe",
              "variable_name": "data"
            }
          },
          "metadata": {},
          "execution_count": 13
        }
      ]
    },
    {
      "cell_type": "markdown",
      "source": [
        "# 1. Run a logistic regression using emp as dependent variable, and west, edu, nchil, marst, male as explanatory variables.Interpret the results"
      ],
      "metadata": {
        "id": "NfTntmBBWBCk"
      }
    },
    {
      "cell_type": "code",
      "source": [
        "model = sm.logit(formula='emp ~ west + edu + nchil + marst + male', data=data).fit()"
      ],
      "metadata": {
        "colab": {
          "base_uri": "https://localhost:8080/"
        },
        "id": "RoibdEB1Wbcu",
        "outputId": "2e515739-4ac2-4bf1-e73a-febd248b0566"
      },
      "execution_count": null,
      "outputs": [
        {
          "output_type": "stream",
          "name": "stdout",
          "text": [
            "Optimization terminated successfully.\n",
            "         Current function value: 0.257411\n",
            "         Iterations 8\n"
          ]
        }
      ]
    },
    {
      "cell_type": "code",
      "source": [
        "print(model.summary())"
      ],
      "metadata": {
        "colab": {
          "base_uri": "https://localhost:8080/"
        },
        "id": "r2ReEGpsXglm",
        "outputId": "c4fd4b79-8ca4-4753-cdd4-a1579a6c441a"
      },
      "execution_count": null,
      "outputs": [
        {
          "output_type": "stream",
          "name": "stdout",
          "text": [
            "                           Logit Regression Results                           \n",
            "==============================================================================\n",
            "Dep. Variable:                    emp   No. Observations:               213592\n",
            "Model:                          Logit   Df Residuals:                   213583\n",
            "Method:                           MLE   Df Model:                            8\n",
            "Date:                Fri, 11 Oct 2024   Pseudo R-squ.:                  0.1092\n",
            "Time:                        11:37:20   Log-Likelihood:                -54981.\n",
            "converged:                       True   LL-Null:                       -61722.\n",
            "Covariance Type:            nonrobust   LLR p-value:                     0.000\n",
            "=================================================================================================\n",
            "                                    coef    std err          z      P>|z|      [0.025      0.975]\n",
            "-------------------------------------------------------------------------------------------------\n",
            "Intercept                        -2.2490      0.057    -39.286      0.000      -2.361      -2.137\n",
            "west[T.[1] West-Germany   1]      1.0610      0.017     61.367      0.000       1.027       1.095\n",
            "marst[T.[2] Single         2]    -0.6898      0.019    -35.746      0.000      -0.728      -0.652\n",
            "marst[T.[3] Widowed        3]    -0.4577      0.058     -7.916      0.000      -0.571      -0.344\n",
            "marst[T.[4] Divorced       4]    -0.8078      0.024    -33.380      0.000      -0.855      -0.760\n",
            "marst[T.[5] Separated      5]    -0.7808      0.045    -17.380      0.000      -0.869      -0.693\n",
            "male[T.[1] Male           1]      0.0992      0.016      6.059      0.000       0.067       0.131\n",
            "edu                               0.3619      0.005     79.115      0.000       0.353       0.371\n",
            "nchil                            -0.1038      0.008    -13.267      0.000      -0.119      -0.088\n",
            "=================================================================================================\n"
          ]
        }
      ]
    },
    {
      "cell_type": "markdown",
      "source": [
        "**LLR p-value: 0.000:** This value suggests that the model as a whole is statistically significant\n",
        "\n",
        "**Intercept = -2.2490:**\n",
        " This value is negative, which means that the baseline probability of being employed is low when all other variables are at their baseline level\n",
        "\n",
        "**West-Germany = 1.0610:**\n",
        "A positive coefficient means that individuals from West Germany have higher log-odds of being employed compared to those from East Germany. This effect is highly significant with a p-value of 0.000.\n",
        "\n",
        "**marst_single = -0.6898:**\n",
        "This coefficient represents the log-odds of being employed for Single individuals compared to the Married individuals. The negative value indicates that being Single is associated with a lower probability of being employed compared to being Married.\n",
        "\n",
        "**marst_Widowed = -0.4577:**\n",
        "Being Widowed is associated with a lower probability of employment compared to being Married\n",
        "\n",
        "**marst_Divorced = -0.8078:**\n",
        "Divorced individuals are less likely to be employed than Married individuals\n",
        "\n",
        "**marst_Separated = -0.7808:**\n",
        "Separated individuals also have a lower probability of employment\n",
        "\n",
        "**male = 0.0992:**\n",
        "Males are more likely to be employed than Females\n",
        "\n",
        "**edu = -0.3619:**\n",
        "Each additional year of education increases the log-odds of being employed\n",
        "\n",
        "**nchil = -0.1038:**\n",
        "Each additional child is associated with a decrease in the log-odds of employment"
      ],
      "metadata": {
        "id": "PdjG8jS1ZgDr"
      }
    },
    {
      "cell_type": "code",
      "source": [
        "import numpy as np\n",
        "odds_ratios = pd.Series(model.params).apply(lambda x: np.exp(x))\n",
        "print(\"Odds Ratios:\\n\", odds_ratios)"
      ],
      "metadata": {
        "colab": {
          "base_uri": "https://localhost:8080/"
        },
        "id": "Xh_GZnFYXmne",
        "outputId": "22ff90ba-bec5-425d-dfed-3eff8f2676b7"
      },
      "execution_count": null,
      "outputs": [
        {
          "output_type": "stream",
          "name": "stdout",
          "text": [
            "Odds Ratios:\n",
            " Intercept                        0.105501\n",
            "west[T.[1] West-Germany   1]     2.889296\n",
            "marst[T.[2] Single         2]    0.501681\n",
            "marst[T.[3] Widowed        3]    0.632767\n",
            "marst[T.[4] Divorced       4]    0.445826\n",
            "marst[T.[5] Separated      5]    0.458041\n",
            "male[T.[1] Male           1]     1.104246\n",
            "edu                              1.436078\n",
            "nchil                            0.901387\n",
            "dtype: float64\n"
          ]
        }
      ]
    },
    {
      "cell_type": "markdown",
      "source": [
        "**West-Germany ≈ 2.89:**\n",
        "This means that the odds of being employed in West Germany are almost 2.89 times higher compared to East Germany.\n",
        "\n",
        "**marst_single ≈ 0.502:**\n",
        "This suggests that the odds of being employed for Single individuals are about 50.2% of the odds for Married individuals.\n",
        "\n",
        "**marst_widowed ≈ 0.633:**\n",
        "Widowed individuals have 63.3% of the odds of being employed compared to Married individuals, meaning Widowed individuals are less likely to be employed than Married individuals.\n",
        "\n",
        "**marst_Divorced = 0.446:**\n",
        "Divorced individuals have about 44.6% of the odds of being employed compared to Married individuals, indicating a significantly lower likelihood of being employed\n",
        "\n",
        "**marst_Separated = 0.458:**\n",
        "Separated individuals have 45.8% of the odds of being employed compared to Married individuals, showing a lower likelihood of employment.\n",
        "\n",
        "**male = 1.104:**\n",
        "Males have 1.10 times higher odds of being employed compared to females. This means that being male increases the odds of being employed by about 10.4% compared to being female.\n",
        "\n",
        "**edu = 1.436:**\n",
        "Each additional year of education increases the odds of being employed by approximately 43.6%. This highlights the strong positive impact of education on employment.\n",
        "\n",
        "**nchil = 0.901:**\n",
        "Each additional child reduces the odds of being employed by approximately 9.9%. This suggests that having more children is associated with a slightly lower probability of employment."
      ],
      "metadata": {
        "id": "5Zambnlrb1Sq"
      }
    },
    {
      "cell_type": "markdown",
      "source": [
        "Region (West Germany) and Education have a positive impact on\n",
        "employment, with higher odds of being employed.\n",
        "\n",
        "Marital Status shows that married individuals have higher employment odds compared to singles, widowed, divorced, or separated individuals.\n",
        "\n",
        "Gender has a small but positive effect, with males being slightly more likely to be employed.\n",
        "\n",
        "Number of Children negatively affects employment odds, though the effect is not very large."
      ],
      "metadata": {
        "id": "qv-p2rWogDk2"
      }
    },
    {
      "cell_type": "markdown",
      "source": [
        "# 2. Get marginal effects of the independent variables (mentioned in point 1) and interpret the results."
      ],
      "metadata": {
        "id": "Zu5n2vD8gkVm"
      }
    },
    {
      "cell_type": "code",
      "source": [
        "marginal_effects = model.get_margeff()\n",
        "print(marginal_effects.summary())"
      ],
      "metadata": {
        "colab": {
          "base_uri": "https://localhost:8080/"
        },
        "id": "mbi27-gCcARU",
        "outputId": "8090a97b-97e2-4575-98d8-9145f185d00e"
      },
      "execution_count": null,
      "outputs": [
        {
          "output_type": "stream",
          "name": "stdout",
          "text": [
            "        Logit Marginal Effects       \n",
            "=====================================\n",
            "Dep. Variable:                    emp\n",
            "Method:                          dydx\n",
            "At:                           overall\n",
            "=================================================================================================\n",
            "                                   dy/dx    std err          z      P>|z|      [0.025      0.975]\n",
            "-------------------------------------------------------------------------------------------------\n",
            "west[T.[1] West-Germany   1]      0.0761      0.001     60.414      0.000       0.074       0.079\n",
            "marst[T.[2] Single         2]    -0.0495      0.001    -35.614      0.000      -0.052      -0.047\n",
            "marst[T.[3] Widowed        3]    -0.0328      0.004     -7.914      0.000      -0.041      -0.025\n",
            "marst[T.[4] Divorced       4]    -0.0580      0.002    -33.255      0.000      -0.061      -0.055\n",
            "marst[T.[5] Separated      5]    -0.0560      0.003    -17.363      0.000      -0.062      -0.050\n",
            "male[T.[1] Male           1]      0.0071      0.001      6.058      0.000       0.005       0.009\n",
            "edu                               0.0260      0.000     76.143      0.000       0.025       0.027\n",
            "nchil                            -0.0074      0.001    -13.267      0.000      -0.009      -0.006\n",
            "=================================================================================================\n"
          ]
        }
      ]
    },
    {
      "cell_type": "markdown",
      "source": [
        "Being from West Germany increases the probability of being employed by 7.61% compared to being from East Germany. This effect is highly significant (p < 0.001), meaning that region plays an important role in employment status.\n",
        "\n",
        "Being single, widowed, divorced or separated decreases the probability of being employed by 4.95%, 3.28%, 5.8% and 5.6% compared to being married. These are statistically significant negative effects, indicating that marital status impacts employment probability.\n",
        "\n",
        "Being male increases the probability of being employed by 0.71% compared to being female. While statistically significant, the effect is quite small, indicating that gender has a minor impact on employment probability.\n",
        "\n",
        "Each additional year of education increases the probability of being employed by 2.60%. This is a strong and significant positive effect, indicating that education substantially improves employment prospects.\n",
        "\n",
        "Each additional child decreases the probability of being employed by 0.74%. This is a statistically significant but relatively small negative effect, suggesting that having more children slightly reduces the likelihood of being employed."
      ],
      "metadata": {
        "id": "_CbpeEiQhjG8"
      }
    },
    {
      "cell_type": "markdown",
      "source": [
        "# 3. Prepare data for the analysis by getting dummy variables based on the categorical variables in the data set. Create a new dataset based on the raw data"
      ],
      "metadata": {
        "id": "nGFc9I8DjNHK"
      }
    },
    {
      "cell_type": "code",
      "source": [
        "data['west'] = data['west'].astype('category')\n",
        "data['male'] = data['male'].astype('category')\n",
        "data['marst'] = data['marst'].astype('category')\n",
        "data['mig'] = data['mig'].astype('category')\n",
        "data['state'] = data['state'].astype('category')"
      ],
      "metadata": {
        "id": "gLq0mTlog174"
      },
      "execution_count": null,
      "outputs": []
    },
    {
      "cell_type": "code",
      "source": [
        "data_dummies = pd.get_dummies(data, columns=['west', 'marst', 'male', 'mig', 'state'], drop_first=True)"
      ],
      "metadata": {
        "id": "_M62oPC7j_lt"
      },
      "execution_count": null,
      "outputs": []
    },
    {
      "cell_type": "code",
      "source": [
        "print(data_dummies.head())"
      ],
      "metadata": {
        "colab": {
          "base_uri": "https://localhost:8080/"
        },
        "id": "CFdJ2xSKn5cw",
        "outputId": "9edfbd36-9f4d-45eb-ad87-dc15e9e67517"
      },
      "execution_count": null,
      "outputs": [
        {
          "output_type": "stream",
          "name": "stdout",
          "text": [
            "   emp  age  syear   edu  nchil  west_[1] West-Germany   1  \\\n",
            "0    1   39   2000  18.0      0                       True   \n",
            "1    1   40   2001  18.0      0                       True   \n",
            "2    1   42   2002  18.0      0                       True   \n",
            "3    1   43   2003  18.0      0                       True   \n",
            "4    0   44   2004  18.0      0                       True   \n",
            "\n",
            "   marst_[2] Single         2  marst_[3] Widowed        3  \\\n",
            "0                        True                       False   \n",
            "1                        True                       False   \n",
            "2                        True                       False   \n",
            "3                        True                       False   \n",
            "4                        True                       False   \n",
            "\n",
            "   marst_[4] Divorced       4  marst_[5] Separated      5  ...  \\\n",
            "0                       False                       False  ...   \n",
            "1                       False                       False  ...   \n",
            "2                       False                       False  ...   \n",
            "3                       False                       False  ...   \n",
            "4                       False                       False  ...   \n",
            "\n",
            "   state_[16] Thuringia             16  state_[1] Schleswig-Holstein       1  \\\n",
            "0                                False                                 False   \n",
            "1                                False                                 False   \n",
            "2                                False                                 False   \n",
            "3                                False                                 False   \n",
            "4                                False                                 False   \n",
            "\n",
            "   state_[2] Hamburg                  2  state_[3] Lower Saxony             3  \\\n",
            "0                                 False                                 False   \n",
            "1                                 False                                 False   \n",
            "2                                 False                                 False   \n",
            "3                                 False                                 False   \n",
            "4                                 False                                 False   \n",
            "\n",
            "   state_[4] Bremen                   4  state_[5] North-Rhine-Westfalia    5  \\\n",
            "0                                 False                                 False   \n",
            "1                                 False                                 False   \n",
            "2                                 False                                 False   \n",
            "3                                 False                                 False   \n",
            "4                                 False                                 False   \n",
            "\n",
            "   state_[6] Hessen                   6  state_[7] Rheinland-Pfalz          7  \\\n",
            "0                                 False                                 False   \n",
            "1                                 False                                 False   \n",
            "2                                 False                                 False   \n",
            "3                                 False                                 False   \n",
            "4                                 False                                 False   \n",
            "\n",
            "   state_[8] Baden-Wuerttemberg       8  state_[9] Bavaria                  9  \n",
            "0                                 False                                 False  \n",
            "1                                 False                                 False  \n",
            "2                                 False                                 False  \n",
            "3                                 False                                 False  \n",
            "4                                 False                                 False  \n",
            "\n",
            "[5 rows x 27 columns]\n"
          ]
        }
      ]
    },
    {
      "cell_type": "code",
      "source": [
        "data_dummies.to_csv('emp_data_with_dummies.csv', index=False)"
      ],
      "metadata": {
        "id": "9BL3pYVNk69k"
      },
      "execution_count": null,
      "outputs": []
    },
    {
      "cell_type": "markdown",
      "source": [
        "# 4. Define the predictor(independent) variables and the response(dependent) variables. Split the data into training (80% of observations) / testing sets (20% of observations).Dummies for base(reference) categories should not be included in the list of independet variables\n"
      ],
      "metadata": {
        "id": "nu-p2JbDokvO"
      }
    },
    {
      "cell_type": "code",
      "source": [
        "data_dummies = pd.read_csv('emp_data_with_dummies.csv')"
      ],
      "metadata": {
        "id": "6_jpkpaHlBnl"
      },
      "execution_count": null,
      "outputs": []
    },
    {
      "cell_type": "code",
      "source": [
        "print(data_dummies.head())"
      ],
      "metadata": {
        "colab": {
          "base_uri": "https://localhost:8080/"
        },
        "id": "DkcJAkIAo0x9",
        "outputId": "b4a01866-1ead-4ac0-e428-5826957342d9"
      },
      "execution_count": null,
      "outputs": [
        {
          "output_type": "stream",
          "name": "stdout",
          "text": [
            "   emp  age  syear   edu  nchil  west_[1] West-Germany   1  \\\n",
            "0    1   39   2000  18.0      0                       True   \n",
            "1    1   40   2001  18.0      0                       True   \n",
            "2    1   42   2002  18.0      0                       True   \n",
            "3    1   43   2003  18.0      0                       True   \n",
            "4    0   44   2004  18.0      0                       True   \n",
            "\n",
            "   marst_[2] Single         2  marst_[3] Widowed        3  \\\n",
            "0                        True                       False   \n",
            "1                        True                       False   \n",
            "2                        True                       False   \n",
            "3                        True                       False   \n",
            "4                        True                       False   \n",
            "\n",
            "   marst_[4] Divorced       4  marst_[5] Separated      5  ...  \\\n",
            "0                       False                       False  ...   \n",
            "1                       False                       False  ...   \n",
            "2                       False                       False  ...   \n",
            "3                       False                       False  ...   \n",
            "4                       False                       False  ...   \n",
            "\n",
            "   state_[16] Thuringia             16  state_[1] Schleswig-Holstein       1  \\\n",
            "0                                False                                 False   \n",
            "1                                False                                 False   \n",
            "2                                False                                 False   \n",
            "3                                False                                 False   \n",
            "4                                False                                 False   \n",
            "\n",
            "   state_[2] Hamburg                  2  state_[3] Lower Saxony             3  \\\n",
            "0                                 False                                 False   \n",
            "1                                 False                                 False   \n",
            "2                                 False                                 False   \n",
            "3                                 False                                 False   \n",
            "4                                 False                                 False   \n",
            "\n",
            "   state_[4] Bremen                   4  state_[5] North-Rhine-Westfalia    5  \\\n",
            "0                                 False                                 False   \n",
            "1                                 False                                 False   \n",
            "2                                 False                                 False   \n",
            "3                                 False                                 False   \n",
            "4                                 False                                 False   \n",
            "\n",
            "   state_[6] Hessen                   6  state_[7] Rheinland-Pfalz          7  \\\n",
            "0                                 False                                 False   \n",
            "1                                 False                                 False   \n",
            "2                                 False                                 False   \n",
            "3                                 False                                 False   \n",
            "4                                 False                                 False   \n",
            "\n",
            "   state_[8] Baden-Wuerttemberg       8  state_[9] Bavaria                  9  \n",
            "0                                 False                                 False  \n",
            "1                                 False                                 False  \n",
            "2                                 False                                 False  \n",
            "3                                 False                                 False  \n",
            "4                                 False                                 False  \n",
            "\n",
            "[5 rows x 27 columns]\n"
          ]
        }
      ]
    },
    {
      "cell_type": "code",
      "source": [
        "y = data_dummies['emp']"
      ],
      "metadata": {
        "id": "yobDy90Io7qP"
      },
      "execution_count": null,
      "outputs": []
    },
    {
      "cell_type": "code",
      "source": [
        "X = data_dummies.drop(['emp'], axis=1)"
      ],
      "metadata": {
        "id": "9HSOMCLco_EY"
      },
      "execution_count": null,
      "outputs": []
    },
    {
      "cell_type": "code",
      "source": [
        "from sklearn.model_selection import train_test_split\n",
        "try:\n",
        "    X_train, X_test, y_train, y_test = train_test_split(\n",
        "    X, y,\n",
        "    test_size=0.20,\n",
        "    random_state=42,\n",
        "    stratify=y\n",
        ")\n",
        "except Exception as e:\n",
        "    print(\"Error during train-test split:\", e)"
      ],
      "metadata": {
        "id": "HJeH4g8WpBcW"
      },
      "execution_count": null,
      "outputs": []
    },
    {
      "cell_type": "code",
      "source": [
        "print(\"Training set size:\", X_train.shape[0])\n",
        "print(\"Testing set size:\", X_test.shape[0])"
      ],
      "metadata": {
        "colab": {
          "base_uri": "https://localhost:8080/"
        },
        "id": "aqYLgetEpGzO",
        "outputId": "0d8dde3a-c90a-45c5-de44-3cbc752f6f9f"
      },
      "execution_count": null,
      "outputs": [
        {
          "output_type": "stream",
          "name": "stdout",
          "text": [
            "Training set size: 170873\n",
            "Testing set size: 42719\n"
          ]
        }
      ]
    },
    {
      "cell_type": "markdown",
      "source": [
        "# 5. Run a logistic regression using training data with emp as dependent variable, and west, edu, nchil, marst, male as explanatory variables using the Scikit-learn library.\n"
      ],
      "metadata": {
        "id": "HJfJPhFCqeb6"
      }
    },
    {
      "cell_type": "code",
      "source": [
        "from sklearn.linear_model import LogisticRegression\n",
        "from sklearn.metrics import classification_report, confusion_matrix"
      ],
      "metadata": {
        "id": "6j0yKLliqJI5"
      },
      "execution_count": null,
      "outputs": []
    },
    {
      "cell_type": "code",
      "source": [
        "data_dummies = pd.get_dummies(data, columns=['west', 'mig', 'state', 'marst', 'male'], drop_first=True)"
      ],
      "metadata": {
        "id": "rY8DEr1Hqnd0"
      },
      "execution_count": null,
      "outputs": []
    },
    {
      "cell_type": "code",
      "source": [
        "y = data_dummies['emp']"
      ],
      "metadata": {
        "id": "yzgdnUQPqyja"
      },
      "execution_count": null,
      "outputs": []
    },
    {
      "cell_type": "code",
      "source": [
        "X = data_dummies[['edu', 'nchil',\n",
        "                   'west_[1] West-Germany   1',\n",
        "                   'marst_[2] Single         2',\n",
        "                   'marst_[3] Widowed        3',\n",
        "                   'marst_[4] Divorced       4',\n",
        "                   'marst_[5] Separated      5',\n",
        "                   'male_[1] Male           1']]"
      ],
      "metadata": {
        "id": "zj3jP7ZarGWL"
      },
      "execution_count": null,
      "outputs": []
    },
    {
      "cell_type": "code",
      "source": [
        "X_train, X_test, y_train, y_test = train_test_split(\n",
        "    X, y,\n",
        "    test_size=0.20,\n",
        "    random_state=42,\n",
        "    stratify=y\n",
        ")\n"
      ],
      "metadata": {
        "id": "18_5hZEarKg-"
      },
      "execution_count": null,
      "outputs": []
    },
    {
      "cell_type": "code",
      "source": [
        "model = LogisticRegression(max_iter=1000)\n",
        "model.fit(X_train, y_train)"
      ],
      "metadata": {
        "colab": {
          "base_uri": "https://localhost:8080/",
          "height": 80
        },
        "id": "PKx3__5QrRBF",
        "outputId": "d30b6467-6f0a-4f78-85f9-d12173a3c10f"
      },
      "execution_count": null,
      "outputs": [
        {
          "output_type": "execute_result",
          "data": {
            "text/plain": [
              "LogisticRegression(max_iter=1000)"
            ],
            "text/html": [
              "<style>#sk-container-id-1 {\n",
              "  /* Definition of color scheme common for light and dark mode */\n",
              "  --sklearn-color-text: black;\n",
              "  --sklearn-color-line: gray;\n",
              "  /* Definition of color scheme for unfitted estimators */\n",
              "  --sklearn-color-unfitted-level-0: #fff5e6;\n",
              "  --sklearn-color-unfitted-level-1: #f6e4d2;\n",
              "  --sklearn-color-unfitted-level-2: #ffe0b3;\n",
              "  --sklearn-color-unfitted-level-3: chocolate;\n",
              "  /* Definition of color scheme for fitted estimators */\n",
              "  --sklearn-color-fitted-level-0: #f0f8ff;\n",
              "  --sklearn-color-fitted-level-1: #d4ebff;\n",
              "  --sklearn-color-fitted-level-2: #b3dbfd;\n",
              "  --sklearn-color-fitted-level-3: cornflowerblue;\n",
              "\n",
              "  /* Specific color for light theme */\n",
              "  --sklearn-color-text-on-default-background: var(--sg-text-color, var(--theme-code-foreground, var(--jp-content-font-color1, black)));\n",
              "  --sklearn-color-background: var(--sg-background-color, var(--theme-background, var(--jp-layout-color0, white)));\n",
              "  --sklearn-color-border-box: var(--sg-text-color, var(--theme-code-foreground, var(--jp-content-font-color1, black)));\n",
              "  --sklearn-color-icon: #696969;\n",
              "\n",
              "  @media (prefers-color-scheme: dark) {\n",
              "    /* Redefinition of color scheme for dark theme */\n",
              "    --sklearn-color-text-on-default-background: var(--sg-text-color, var(--theme-code-foreground, var(--jp-content-font-color1, white)));\n",
              "    --sklearn-color-background: var(--sg-background-color, var(--theme-background, var(--jp-layout-color0, #111)));\n",
              "    --sklearn-color-border-box: var(--sg-text-color, var(--theme-code-foreground, var(--jp-content-font-color1, white)));\n",
              "    --sklearn-color-icon: #878787;\n",
              "  }\n",
              "}\n",
              "\n",
              "#sk-container-id-1 {\n",
              "  color: var(--sklearn-color-text);\n",
              "}\n",
              "\n",
              "#sk-container-id-1 pre {\n",
              "  padding: 0;\n",
              "}\n",
              "\n",
              "#sk-container-id-1 input.sk-hidden--visually {\n",
              "  border: 0;\n",
              "  clip: rect(1px 1px 1px 1px);\n",
              "  clip: rect(1px, 1px, 1px, 1px);\n",
              "  height: 1px;\n",
              "  margin: -1px;\n",
              "  overflow: hidden;\n",
              "  padding: 0;\n",
              "  position: absolute;\n",
              "  width: 1px;\n",
              "}\n",
              "\n",
              "#sk-container-id-1 div.sk-dashed-wrapped {\n",
              "  border: 1px dashed var(--sklearn-color-line);\n",
              "  margin: 0 0.4em 0.5em 0.4em;\n",
              "  box-sizing: border-box;\n",
              "  padding-bottom: 0.4em;\n",
              "  background-color: var(--sklearn-color-background);\n",
              "}\n",
              "\n",
              "#sk-container-id-1 div.sk-container {\n",
              "  /* jupyter's `normalize.less` sets `[hidden] { display: none; }`\n",
              "     but bootstrap.min.css set `[hidden] { display: none !important; }`\n",
              "     so we also need the `!important` here to be able to override the\n",
              "     default hidden behavior on the sphinx rendered scikit-learn.org.\n",
              "     See: https://github.com/scikit-learn/scikit-learn/issues/21755 */\n",
              "  display: inline-block !important;\n",
              "  position: relative;\n",
              "}\n",
              "\n",
              "#sk-container-id-1 div.sk-text-repr-fallback {\n",
              "  display: none;\n",
              "}\n",
              "\n",
              "div.sk-parallel-item,\n",
              "div.sk-serial,\n",
              "div.sk-item {\n",
              "  /* draw centered vertical line to link estimators */\n",
              "  background-image: linear-gradient(var(--sklearn-color-text-on-default-background), var(--sklearn-color-text-on-default-background));\n",
              "  background-size: 2px 100%;\n",
              "  background-repeat: no-repeat;\n",
              "  background-position: center center;\n",
              "}\n",
              "\n",
              "/* Parallel-specific style estimator block */\n",
              "\n",
              "#sk-container-id-1 div.sk-parallel-item::after {\n",
              "  content: \"\";\n",
              "  width: 100%;\n",
              "  border-bottom: 2px solid var(--sklearn-color-text-on-default-background);\n",
              "  flex-grow: 1;\n",
              "}\n",
              "\n",
              "#sk-container-id-1 div.sk-parallel {\n",
              "  display: flex;\n",
              "  align-items: stretch;\n",
              "  justify-content: center;\n",
              "  background-color: var(--sklearn-color-background);\n",
              "  position: relative;\n",
              "}\n",
              "\n",
              "#sk-container-id-1 div.sk-parallel-item {\n",
              "  display: flex;\n",
              "  flex-direction: column;\n",
              "}\n",
              "\n",
              "#sk-container-id-1 div.sk-parallel-item:first-child::after {\n",
              "  align-self: flex-end;\n",
              "  width: 50%;\n",
              "}\n",
              "\n",
              "#sk-container-id-1 div.sk-parallel-item:last-child::after {\n",
              "  align-self: flex-start;\n",
              "  width: 50%;\n",
              "}\n",
              "\n",
              "#sk-container-id-1 div.sk-parallel-item:only-child::after {\n",
              "  width: 0;\n",
              "}\n",
              "\n",
              "/* Serial-specific style estimator block */\n",
              "\n",
              "#sk-container-id-1 div.sk-serial {\n",
              "  display: flex;\n",
              "  flex-direction: column;\n",
              "  align-items: center;\n",
              "  background-color: var(--sklearn-color-background);\n",
              "  padding-right: 1em;\n",
              "  padding-left: 1em;\n",
              "}\n",
              "\n",
              "\n",
              "/* Toggleable style: style used for estimator/Pipeline/ColumnTransformer box that is\n",
              "clickable and can be expanded/collapsed.\n",
              "- Pipeline and ColumnTransformer use this feature and define the default style\n",
              "- Estimators will overwrite some part of the style using the `sk-estimator` class\n",
              "*/\n",
              "\n",
              "/* Pipeline and ColumnTransformer style (default) */\n",
              "\n",
              "#sk-container-id-1 div.sk-toggleable {\n",
              "  /* Default theme specific background. It is overwritten whether we have a\n",
              "  specific estimator or a Pipeline/ColumnTransformer */\n",
              "  background-color: var(--sklearn-color-background);\n",
              "}\n",
              "\n",
              "/* Toggleable label */\n",
              "#sk-container-id-1 label.sk-toggleable__label {\n",
              "  cursor: pointer;\n",
              "  display: block;\n",
              "  width: 100%;\n",
              "  margin-bottom: 0;\n",
              "  padding: 0.5em;\n",
              "  box-sizing: border-box;\n",
              "  text-align: center;\n",
              "}\n",
              "\n",
              "#sk-container-id-1 label.sk-toggleable__label-arrow:before {\n",
              "  /* Arrow on the left of the label */\n",
              "  content: \"▸\";\n",
              "  float: left;\n",
              "  margin-right: 0.25em;\n",
              "  color: var(--sklearn-color-icon);\n",
              "}\n",
              "\n",
              "#sk-container-id-1 label.sk-toggleable__label-arrow:hover:before {\n",
              "  color: var(--sklearn-color-text);\n",
              "}\n",
              "\n",
              "/* Toggleable content - dropdown */\n",
              "\n",
              "#sk-container-id-1 div.sk-toggleable__content {\n",
              "  max-height: 0;\n",
              "  max-width: 0;\n",
              "  overflow: hidden;\n",
              "  text-align: left;\n",
              "  /* unfitted */\n",
              "  background-color: var(--sklearn-color-unfitted-level-0);\n",
              "}\n",
              "\n",
              "#sk-container-id-1 div.sk-toggleable__content.fitted {\n",
              "  /* fitted */\n",
              "  background-color: var(--sklearn-color-fitted-level-0);\n",
              "}\n",
              "\n",
              "#sk-container-id-1 div.sk-toggleable__content pre {\n",
              "  margin: 0.2em;\n",
              "  border-radius: 0.25em;\n",
              "  color: var(--sklearn-color-text);\n",
              "  /* unfitted */\n",
              "  background-color: var(--sklearn-color-unfitted-level-0);\n",
              "}\n",
              "\n",
              "#sk-container-id-1 div.sk-toggleable__content.fitted pre {\n",
              "  /* unfitted */\n",
              "  background-color: var(--sklearn-color-fitted-level-0);\n",
              "}\n",
              "\n",
              "#sk-container-id-1 input.sk-toggleable__control:checked~div.sk-toggleable__content {\n",
              "  /* Expand drop-down */\n",
              "  max-height: 200px;\n",
              "  max-width: 100%;\n",
              "  overflow: auto;\n",
              "}\n",
              "\n",
              "#sk-container-id-1 input.sk-toggleable__control:checked~label.sk-toggleable__label-arrow:before {\n",
              "  content: \"▾\";\n",
              "}\n",
              "\n",
              "/* Pipeline/ColumnTransformer-specific style */\n",
              "\n",
              "#sk-container-id-1 div.sk-label input.sk-toggleable__control:checked~label.sk-toggleable__label {\n",
              "  color: var(--sklearn-color-text);\n",
              "  background-color: var(--sklearn-color-unfitted-level-2);\n",
              "}\n",
              "\n",
              "#sk-container-id-1 div.sk-label.fitted input.sk-toggleable__control:checked~label.sk-toggleable__label {\n",
              "  background-color: var(--sklearn-color-fitted-level-2);\n",
              "}\n",
              "\n",
              "/* Estimator-specific style */\n",
              "\n",
              "/* Colorize estimator box */\n",
              "#sk-container-id-1 div.sk-estimator input.sk-toggleable__control:checked~label.sk-toggleable__label {\n",
              "  /* unfitted */\n",
              "  background-color: var(--sklearn-color-unfitted-level-2);\n",
              "}\n",
              "\n",
              "#sk-container-id-1 div.sk-estimator.fitted input.sk-toggleable__control:checked~label.sk-toggleable__label {\n",
              "  /* fitted */\n",
              "  background-color: var(--sklearn-color-fitted-level-2);\n",
              "}\n",
              "\n",
              "#sk-container-id-1 div.sk-label label.sk-toggleable__label,\n",
              "#sk-container-id-1 div.sk-label label {\n",
              "  /* The background is the default theme color */\n",
              "  color: var(--sklearn-color-text-on-default-background);\n",
              "}\n",
              "\n",
              "/* On hover, darken the color of the background */\n",
              "#sk-container-id-1 div.sk-label:hover label.sk-toggleable__label {\n",
              "  color: var(--sklearn-color-text);\n",
              "  background-color: var(--sklearn-color-unfitted-level-2);\n",
              "}\n",
              "\n",
              "/* Label box, darken color on hover, fitted */\n",
              "#sk-container-id-1 div.sk-label.fitted:hover label.sk-toggleable__label.fitted {\n",
              "  color: var(--sklearn-color-text);\n",
              "  background-color: var(--sklearn-color-fitted-level-2);\n",
              "}\n",
              "\n",
              "/* Estimator label */\n",
              "\n",
              "#sk-container-id-1 div.sk-label label {\n",
              "  font-family: monospace;\n",
              "  font-weight: bold;\n",
              "  display: inline-block;\n",
              "  line-height: 1.2em;\n",
              "}\n",
              "\n",
              "#sk-container-id-1 div.sk-label-container {\n",
              "  text-align: center;\n",
              "}\n",
              "\n",
              "/* Estimator-specific */\n",
              "#sk-container-id-1 div.sk-estimator {\n",
              "  font-family: monospace;\n",
              "  border: 1px dotted var(--sklearn-color-border-box);\n",
              "  border-radius: 0.25em;\n",
              "  box-sizing: border-box;\n",
              "  margin-bottom: 0.5em;\n",
              "  /* unfitted */\n",
              "  background-color: var(--sklearn-color-unfitted-level-0);\n",
              "}\n",
              "\n",
              "#sk-container-id-1 div.sk-estimator.fitted {\n",
              "  /* fitted */\n",
              "  background-color: var(--sklearn-color-fitted-level-0);\n",
              "}\n",
              "\n",
              "/* on hover */\n",
              "#sk-container-id-1 div.sk-estimator:hover {\n",
              "  /* unfitted */\n",
              "  background-color: var(--sklearn-color-unfitted-level-2);\n",
              "}\n",
              "\n",
              "#sk-container-id-1 div.sk-estimator.fitted:hover {\n",
              "  /* fitted */\n",
              "  background-color: var(--sklearn-color-fitted-level-2);\n",
              "}\n",
              "\n",
              "/* Specification for estimator info (e.g. \"i\" and \"?\") */\n",
              "\n",
              "/* Common style for \"i\" and \"?\" */\n",
              "\n",
              ".sk-estimator-doc-link,\n",
              "a:link.sk-estimator-doc-link,\n",
              "a:visited.sk-estimator-doc-link {\n",
              "  float: right;\n",
              "  font-size: smaller;\n",
              "  line-height: 1em;\n",
              "  font-family: monospace;\n",
              "  background-color: var(--sklearn-color-background);\n",
              "  border-radius: 1em;\n",
              "  height: 1em;\n",
              "  width: 1em;\n",
              "  text-decoration: none !important;\n",
              "  margin-left: 1ex;\n",
              "  /* unfitted */\n",
              "  border: var(--sklearn-color-unfitted-level-1) 1pt solid;\n",
              "  color: var(--sklearn-color-unfitted-level-1);\n",
              "}\n",
              "\n",
              ".sk-estimator-doc-link.fitted,\n",
              "a:link.sk-estimator-doc-link.fitted,\n",
              "a:visited.sk-estimator-doc-link.fitted {\n",
              "  /* fitted */\n",
              "  border: var(--sklearn-color-fitted-level-1) 1pt solid;\n",
              "  color: var(--sklearn-color-fitted-level-1);\n",
              "}\n",
              "\n",
              "/* On hover */\n",
              "div.sk-estimator:hover .sk-estimator-doc-link:hover,\n",
              ".sk-estimator-doc-link:hover,\n",
              "div.sk-label-container:hover .sk-estimator-doc-link:hover,\n",
              ".sk-estimator-doc-link:hover {\n",
              "  /* unfitted */\n",
              "  background-color: var(--sklearn-color-unfitted-level-3);\n",
              "  color: var(--sklearn-color-background);\n",
              "  text-decoration: none;\n",
              "}\n",
              "\n",
              "div.sk-estimator.fitted:hover .sk-estimator-doc-link.fitted:hover,\n",
              ".sk-estimator-doc-link.fitted:hover,\n",
              "div.sk-label-container:hover .sk-estimator-doc-link.fitted:hover,\n",
              ".sk-estimator-doc-link.fitted:hover {\n",
              "  /* fitted */\n",
              "  background-color: var(--sklearn-color-fitted-level-3);\n",
              "  color: var(--sklearn-color-background);\n",
              "  text-decoration: none;\n",
              "}\n",
              "\n",
              "/* Span, style for the box shown on hovering the info icon */\n",
              ".sk-estimator-doc-link span {\n",
              "  display: none;\n",
              "  z-index: 9999;\n",
              "  position: relative;\n",
              "  font-weight: normal;\n",
              "  right: .2ex;\n",
              "  padding: .5ex;\n",
              "  margin: .5ex;\n",
              "  width: min-content;\n",
              "  min-width: 20ex;\n",
              "  max-width: 50ex;\n",
              "  color: var(--sklearn-color-text);\n",
              "  box-shadow: 2pt 2pt 4pt #999;\n",
              "  /* unfitted */\n",
              "  background: var(--sklearn-color-unfitted-level-0);\n",
              "  border: .5pt solid var(--sklearn-color-unfitted-level-3);\n",
              "}\n",
              "\n",
              ".sk-estimator-doc-link.fitted span {\n",
              "  /* fitted */\n",
              "  background: var(--sklearn-color-fitted-level-0);\n",
              "  border: var(--sklearn-color-fitted-level-3);\n",
              "}\n",
              "\n",
              ".sk-estimator-doc-link:hover span {\n",
              "  display: block;\n",
              "}\n",
              "\n",
              "/* \"?\"-specific style due to the `<a>` HTML tag */\n",
              "\n",
              "#sk-container-id-1 a.estimator_doc_link {\n",
              "  float: right;\n",
              "  font-size: 1rem;\n",
              "  line-height: 1em;\n",
              "  font-family: monospace;\n",
              "  background-color: var(--sklearn-color-background);\n",
              "  border-radius: 1rem;\n",
              "  height: 1rem;\n",
              "  width: 1rem;\n",
              "  text-decoration: none;\n",
              "  /* unfitted */\n",
              "  color: var(--sklearn-color-unfitted-level-1);\n",
              "  border: var(--sklearn-color-unfitted-level-1) 1pt solid;\n",
              "}\n",
              "\n",
              "#sk-container-id-1 a.estimator_doc_link.fitted {\n",
              "  /* fitted */\n",
              "  border: var(--sklearn-color-fitted-level-1) 1pt solid;\n",
              "  color: var(--sklearn-color-fitted-level-1);\n",
              "}\n",
              "\n",
              "/* On hover */\n",
              "#sk-container-id-1 a.estimator_doc_link:hover {\n",
              "  /* unfitted */\n",
              "  background-color: var(--sklearn-color-unfitted-level-3);\n",
              "  color: var(--sklearn-color-background);\n",
              "  text-decoration: none;\n",
              "}\n",
              "\n",
              "#sk-container-id-1 a.estimator_doc_link.fitted:hover {\n",
              "  /* fitted */\n",
              "  background-color: var(--sklearn-color-fitted-level-3);\n",
              "}\n",
              "</style><div id=\"sk-container-id-1\" class=\"sk-top-container\"><div class=\"sk-text-repr-fallback\"><pre>LogisticRegression(max_iter=1000)</pre><b>In a Jupyter environment, please rerun this cell to show the HTML representation or trust the notebook. <br />On GitHub, the HTML representation is unable to render, please try loading this page with nbviewer.org.</b></div><div class=\"sk-container\" hidden><div class=\"sk-item\"><div class=\"sk-estimator fitted sk-toggleable\"><input class=\"sk-toggleable__control sk-hidden--visually\" id=\"sk-estimator-id-1\" type=\"checkbox\" checked><label for=\"sk-estimator-id-1\" class=\"sk-toggleable__label fitted sk-toggleable__label-arrow fitted\">&nbsp;&nbsp;LogisticRegression<a class=\"sk-estimator-doc-link fitted\" rel=\"noreferrer\" target=\"_blank\" href=\"https://scikit-learn.org/1.5/modules/generated/sklearn.linear_model.LogisticRegression.html\">?<span>Documentation for LogisticRegression</span></a><span class=\"sk-estimator-doc-link fitted\">i<span>Fitted</span></span></label><div class=\"sk-toggleable__content fitted\"><pre>LogisticRegression(max_iter=1000)</pre></div> </div></div></div></div>"
            ]
          },
          "metadata": {},
          "execution_count": 53
        }
      ]
    },
    {
      "cell_type": "code",
      "source": [
        "coefficients = pd.Series(model.coef_[0], index=X_train.columns)\n",
        "print(\"Logistic Regression Coefficients:\\n\", coefficients)"
      ],
      "metadata": {
        "colab": {
          "base_uri": "https://localhost:8080/"
        },
        "id": "51_U1Q1Trdn2",
        "outputId": "7eb9ff90-429c-4728-bac2-f28ecaac503d"
      },
      "execution_count": null,
      "outputs": [
        {
          "output_type": "stream",
          "name": "stdout",
          "text": [
            "Logistic Regression Coefficients:\n",
            " edu                           0.361518\n",
            "nchil                        -0.103732\n",
            "west_[1] West-Germany   1     1.057201\n",
            "marst_[2] Single         2   -0.700644\n",
            "marst_[3] Widowed        3   -0.465914\n",
            "marst_[4] Divorced       4   -0.810906\n",
            "marst_[5] Separated      5   -0.772316\n",
            "male_[1] Male           1     0.108921\n",
            "dtype: float64\n"
          ]
        }
      ]
    },
    {
      "cell_type": "code",
      "source": [
        "y_pred_train = model.predict(X_train)\n",
        "print(\"Classification Report:\\n\", classification_report(y_train, y_pred_train))\n",
        "print(\"Confusion Matrix:\\n\", confusion_matrix(y_train, y_pred_train))"
      ],
      "metadata": {
        "colab": {
          "base_uri": "https://localhost:8080/"
        },
        "id": "LudWrIZwrhgr",
        "outputId": "130cee69-d7a6-4f8f-b2a6-24eb28218a46"
      },
      "execution_count": null,
      "outputs": [
        {
          "output_type": "stream",
          "name": "stdout",
          "text": [
            "Classification Report:\n",
            "               precision    recall  f1-score   support\n",
            "\n",
            "           0       0.70      0.01      0.02     14392\n",
            "           1       0.92      1.00      0.96    156481\n",
            "\n",
            "    accuracy                           0.92    170873\n",
            "   macro avg       0.81      0.50      0.49    170873\n",
            "weighted avg       0.90      0.92      0.88    170873\n",
            "\n",
            "Confusion Matrix:\n",
            " [[   118  14274]\n",
            " [    50 156431]]\n"
          ]
        }
      ]
    },
    {
      "cell_type": "markdown",
      "source": [
        "# 6. Use the model to get predicted probabilities for the test dataset. Use the predicted probabilities to plot the AUC-ROC curve."
      ],
      "metadata": {
        "id": "Xlz5LtyVr35v"
      }
    },
    {
      "cell_type": "code",
      "source": [
        "import matplotlib.pyplot as plt\n",
        "from sklearn.metrics import roc_curve, roc_auc_score"
      ],
      "metadata": {
        "id": "mG0K_aAbr50k"
      },
      "execution_count": null,
      "outputs": []
    },
    {
      "cell_type": "code",
      "source": [
        "y_prob = model.predict_proba(X_test)[:, 1]"
      ],
      "metadata": {
        "id": "DUdoLoKYsUZz"
      },
      "execution_count": null,
      "outputs": []
    },
    {
      "cell_type": "code",
      "source": [
        "roc_auc = roc_auc_score(y_test, y_prob)\n",
        "print(\"ROC AUC Score:\", roc_auc)"
      ],
      "metadata": {
        "colab": {
          "base_uri": "https://localhost:8080/"
        },
        "id": "BybvT-pusadB",
        "outputId": "59702dd8-ddc0-4969-baf3-710137e40129"
      },
      "execution_count": null,
      "outputs": [
        {
          "output_type": "stream",
          "name": "stdout",
          "text": [
            "ROC AUC Score: 0.7435564150046068\n"
          ]
        }
      ]
    },
    {
      "cell_type": "code",
      "source": [
        "!pip install matplotlib\n"
      ],
      "metadata": {
        "colab": {
          "base_uri": "https://localhost:8080/"
        },
        "id": "vgAZHRzgtKuj",
        "outputId": "4835cfd6-28ed-417b-e0a5-316a99540846"
      },
      "execution_count": null,
      "outputs": [
        {
          "output_type": "stream",
          "name": "stdout",
          "text": [
            "Requirement already satisfied: matplotlib in /usr/local/lib/python3.10/dist-packages (3.7.1)\n",
            "Requirement already satisfied: contourpy>=1.0.1 in /usr/local/lib/python3.10/dist-packages (from matplotlib) (1.3.0)\n",
            "Requirement already satisfied: cycler>=0.10 in /usr/local/lib/python3.10/dist-packages (from matplotlib) (0.12.1)\n",
            "Requirement already satisfied: fonttools>=4.22.0 in /usr/local/lib/python3.10/dist-packages (from matplotlib) (4.54.1)\n",
            "Requirement already satisfied: kiwisolver>=1.0.1 in /usr/local/lib/python3.10/dist-packages (from matplotlib) (1.4.7)\n",
            "Requirement already satisfied: numpy>=1.20 in /usr/local/lib/python3.10/dist-packages (from matplotlib) (1.26.4)\n",
            "Requirement already satisfied: packaging>=20.0 in /usr/local/lib/python3.10/dist-packages (from matplotlib) (24.1)\n",
            "Requirement already satisfied: pillow>=6.2.0 in /usr/local/lib/python3.10/dist-packages (from matplotlib) (10.4.0)\n",
            "Requirement already satisfied: pyparsing>=2.3.1 in /usr/local/lib/python3.10/dist-packages (from matplotlib) (3.1.4)\n",
            "Requirement already satisfied: python-dateutil>=2.7 in /usr/local/lib/python3.10/dist-packages (from matplotlib) (2.8.2)\n",
            "Requirement already satisfied: six>=1.5 in /usr/local/lib/python3.10/dist-packages (from python-dateutil>=2.7->matplotlib) (1.16.0)\n"
          ]
        }
      ]
    },
    {
      "cell_type": "code",
      "source": [
        "!pip install scikit-learn"
      ],
      "metadata": {
        "colab": {
          "base_uri": "https://localhost:8080/"
        },
        "id": "cRuYVRGOtZxX",
        "outputId": "b01d2f7f-7ed9-44de-97ef-f7d00559869d"
      },
      "execution_count": null,
      "outputs": [
        {
          "output_type": "stream",
          "name": "stdout",
          "text": [
            "Requirement already satisfied: scikit-learn in /usr/local/lib/python3.10/dist-packages (1.5.2)\n",
            "Requirement already satisfied: numpy>=1.19.5 in /usr/local/lib/python3.10/dist-packages (from scikit-learn) (1.26.4)\n",
            "Requirement already satisfied: scipy>=1.6.0 in /usr/local/lib/python3.10/dist-packages (from scikit-learn) (1.13.1)\n",
            "Requirement already satisfied: joblib>=1.2.0 in /usr/local/lib/python3.10/dist-packages (from scikit-learn) (1.4.2)\n",
            "Requirement already satisfied: threadpoolctl>=3.1.0 in /usr/local/lib/python3.10/dist-packages (from scikit-learn) (3.5.0)\n"
          ]
        }
      ]
    },
    {
      "cell_type": "code",
      "source": [
        "import matplotlib.pyplot as plt\n",
        "from sklearn.metrics import roc_curve, auc\n",
        "fpr, tpr, thresholds = roc_curve(y_test, y_prob)"
      ],
      "metadata": {
        "id": "5qVGHHUusm1d"
      },
      "execution_count": null,
      "outputs": []
    },
    {
      "cell_type": "code",
      "source": [
        "import matplotlib.pyplot as plt\n",
        "plt.figure(figsize=(10, 6))\n",
        "plt.plot(fpr, tpr, label=f'ROC Curve (AUC = {roc_auc:.2f})', color='blue')\n",
        "plt.plot([0, 1], [0, 1], linestyle='--', color='red')  # Diagonal line for no discrimination\n",
        "plt.xlim([0.0, 1.0])\n",
        "plt.ylim([0.0, 1.05])\n",
        "plt.xlabel('False Positive Rate')\n",
        "plt.ylabel('True Positive Rate')\n",
        "plt.title('Receiver Operating Characteristic (ROC) Curve')\n",
        "plt.legend(loc='lower right')\n",
        "plt.grid()\n",
        "plt.show()"
      ],
      "metadata": {
        "colab": {
          "base_uri": "https://localhost:8080/",
          "height": 564
        },
        "id": "VkzT2ROEsq3n",
        "outputId": "098606e4-d03c-426b-b940-647338208c37"
      },
      "execution_count": null,
      "outputs": [
        {
          "output_type": "display_data",
          "data": {
            "text/plain": [
              "<Figure size 1000x600 with 1 Axes>"
            ],
            "image/png": "[encoded data removed]"
          },
          "metadata": {}
        }
      ]
    },
    {
      "cell_type": "markdown",
      "source": [
        "# 7. Apply a cutoff threshold 0.3 to obtain Recall/Sensitivity and Precision/Specificity for that threshold using the test dataset. Evaluate the model based on Recall and Precision by interpreting the results."
      ],
      "metadata": {
        "id": "IVv9P6GYuc2R"
      }
    },
    {
      "cell_type": "code",
      "source": [
        "from sklearn.metrics import confusion_matrix, precision_score, recall_score\n",
        "threshold = 0.3\n",
        "y_pred_class = (y_prob >= threshold).astype(int)"
      ],
      "metadata": {
        "id": "zo4HARGguePn"
      },
      "execution_count": null,
      "outputs": []
    },
    {
      "cell_type": "code",
      "source": [
        "cm = confusion_matrix(y_test, y_pred_class)\n",
        "tn, fp, fn, tp = cm.ravel()"
      ],
      "metadata": {
        "id": "FkL6zTg-umob"
      },
      "execution_count": null,
      "outputs": []
    },
    {
      "cell_type": "code",
      "source": [
        "recall = tp / (tp + fn)\n",
        "precision = tp / (tp + fp)"
      ],
      "metadata": {
        "id": "Ik6K1XiPu2u7"
      },
      "execution_count": null,
      "outputs": []
    },
    {
      "cell_type": "code",
      "source": [
        "print(f\"Confusion Matrix:\\n{cm}\")\n",
        "print(f\"Recall (Sensitivity): {recall:.4f}\")\n",
        "print(f\"Precision: {precision:.4f}\")"
      ],
      "metadata": {
        "colab": {
          "base_uri": "https://localhost:8080/"
        },
        "id": "EI4j2lRuu51z",
        "outputId": "0e94381e-d528-4722-a7d4-81400524568a"
      },
      "execution_count": null,
      "outputs": [
        {
          "output_type": "stream",
          "name": "stdout",
          "text": [
            "Confusion Matrix:\n",
            "[[    2  3596]\n",
            " [    1 39120]]\n",
            "Recall (Sensitivity): 1.0000\n",
            "Precision: 0.9158\n"
          ]
        }
      ]
    },
    {
      "cell_type": "markdown",
      "source": [
        "**Recall (Sensitivity): 1.0000**\n",
        "\n",
        "This means the model correctly identified all of the actual employed individuals (true positives) in the test set. Since the Recall is 1.0000 (or 100%), there are no false negatives. This is excellent because it indicates that the model successfully captured every person who is actually employed.\n",
        "\n",
        "**Precision: 0.9158**\n",
        "\n",
        "This value indicates that when the model predicts that someone is employed, it is correct about 91.58% of the time. There are some false positives (predicted positives that are actually negatives), but overall, the precision is still quite high, indicating that the model is reliable in its positive predictions."
      ],
      "metadata": {
        "id": "jzYFD5iCvNo3"
      }
    },
    {
      "cell_type": "code",
      "source": [],
      "metadata": {
        "id": "W2nDwB3Yu75X"
      },
      "execution_count": null,
      "outputs": []
    }
  ]
}