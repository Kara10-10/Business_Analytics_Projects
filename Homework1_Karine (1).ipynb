{
  "nbformat": 4,
  "nbformat_minor": 0,
  "metadata": {
    "colab": {
      "provenance": []
    },
    "kernelspec": {
      "name": "python3",
      "display_name": "Python 3"
    },
    "language_info": {
      "name": "python"
    }
  },
  "cells": [
    {
      "cell_type": "markdown",
      "source": [
        "**1**.\tRun a simple regression using wage as dependent variable, and age as explanatory variable\n",
        "\n",
        "\n",
        "*   Interpret the meaning of the coefficient\n",
        "*   Discuss the statistical significance of the coefficient\n",
        "\n",
        "\n",
        "*   Discuss the statistical significance of the overall regression\n",
        "*   Use be regression model to predict the wages\n",
        "\n",
        "\n",
        "*   Plot the predictions against actual data using a scatter plot\n",
        "\n",
        "\n",
        "\n",
        "\n",
        "\n",
        "\n",
        "\n"
      ],
      "metadata": {
        "id": "2nMfz_oRkEmM"
      }
    },
    {
      "cell_type": "code",
      "source": [
        "import pandas as pd\n",
        "import statsmodels.formula.api as smf\n",
        "import matplotlib.pyplot as plt"
      ],
      "metadata": {
        "id": "QfzNugapkFsk"
      },
      "execution_count": null,
      "outputs": []
    },
    {
      "cell_type": "code",
      "source": [
        "data = pd.read_csv(\"salary.csv\")"
      ],
      "metadata": {
        "id": "V-KFlLO6kgec"
      },
      "execution_count": null,
      "outputs": []
    },
    {
      "cell_type": "code",
      "source": [
        "model = smf.ols('wage ~ age', data=data)\n",
        "result = model.fit()"
      ],
      "metadata": {
        "id": "FuHXmRg7ktni"
      },
      "execution_count": null,
      "outputs": []
    },
    {
      "cell_type": "code",
      "source": [
        "print(result.summary())"
      ],
      "metadata": {
        "colab": {
          "base_uri": "https://localhost:8080/"
        },
        "id": "Jul8eWyukwm0",
        "outputId": "ab16ad85-70db-4b5b-976a-3bb0d7efe1cf"
      },
      "execution_count": null,
      "outputs": [
        {
          "output_type": "stream",
          "name": "stdout",
          "text": [
            "                            OLS Regression Results                            \n",
            "==============================================================================\n",
            "Dep. Variable:                   wage   R-squared:                       0.038\n",
            "Model:                            OLS   Adj. R-squared:                  0.038\n",
            "Method:                 Least Squares   F-statistic:                     119.3\n",
            "Date:                Thu, 19 Sep 2024   Prob (F-statistic):           2.90e-27\n",
            "Time:                        20:36:54   Log-Likelihood:                -15391.\n",
            "No. Observations:                3000   AIC:                         3.079e+04\n",
            "Df Residuals:                    2998   BIC:                         3.080e+04\n",
            "Df Model:                           1                                         \n",
            "Covariance Type:            nonrobust                                         \n",
            "==============================================================================\n",
            "                 coef    std err          t      P>|t|      [0.025      0.975]\n",
            "------------------------------------------------------------------------------\n",
            "Intercept     81.7047      2.846     28.706      0.000      76.124      87.286\n",
            "age            0.7073      0.065     10.923      0.000       0.580       0.834\n",
            "==============================================================================\n",
            "Omnibus:                     1065.217   Durbin-Watson:                   1.952\n",
            "Prob(Omnibus):                  0.000   Jarque-Bera (JB):             4518.235\n",
            "Skew:                           1.690   Prob(JB):                         0.00\n",
            "Kurtosis:                       7.972   Cond. No.                         168.\n",
            "==============================================================================\n",
            "\n",
            "Notes:\n",
            "[1] Standard Errors assume that the covariance matrix of the errors is correctly specified.\n"
          ]
        }
      ]
    },
    {
      "cell_type": "markdown",
      "source": [
        "*   The coef of Age is 0.7073 which means that the when the age is increased by 1 year, the wage increases bu 0.71 units\n",
        "*   Intercept 81.7 represent the expected wage when age=0\n",
        "\n",
        "\n",
        "*   Age has significant effect on wage as its p-value<\"0.05\"\n",
        "\n",
        "\n",
        "*  R^2= 0.038 this means that about 3.8% of the variability in wages is explained by age. This is a low value, meaning that age alone doesn't explain much of the variation in wages.\n",
        "\n",
        "\n",
        "\n",
        "\n",
        "\n",
        "\n"
      ],
      "metadata": {
        "id": "qoX51U5OlaRF"
      }
    },
    {
      "cell_type": "markdown",
      "source": [],
      "metadata": {
        "id": "s_yNfddulUCT"
      }
    },
    {
      "cell_type": "code",
      "source": [
        "wage_pred = result.predict()"
      ],
      "metadata": {
        "id": "RtvbHlQyky-9"
      },
      "execution_count": null,
      "outputs": []
    },
    {
      "cell_type": "code",
      "source": [
        "plt.figure(figsize=(12, 6))\n",
        "plt.plot(data['age'], data['wage'], 'o', label='Actual Data')\n",
        "plt.plot(data['age'], wage_pred, 'r', linewidth=2, label='Predicted Wage')\n",
        "plt.xlabel('Age')\n",
        "plt.ylabel('Wage')\n",
        "plt.title('Wage vs Age')\n",
        "plt.legend()\n",
        "plt.show()"
      ],
      "metadata": {
        "colab": {
          "base_uri": "https://localhost:8080/",
          "height": 564
        },
        "id": "fRtDXEFIk1UN",
        "outputId": "7402d2b1-9d61-40c0-bd81-5b3c47665030"
      },
      "execution_count": null,
      "outputs": [
        {
          "output_type": "display_data",
          "data": {
            "text/plain": [
              "<Figure size 1200x600 with 1 Axes>"
            ],
            "image/png": "[encoded data removed]"
          },
          "metadata": {}
        }
      ]
    },
    {
      "cell_type": "markdown",
      "source": [
        "2.\tRun a multiple regression using wage as dependent variable, age, health_ins and education as explanatory variables\n",
        "\n",
        "\n",
        "*   a.\tInterpret the meaning of the coefficients\n",
        "*   b.\tDiscuss the statistical significance of the coefficients\n",
        "\n",
        "\n",
        "*   c.\tDiscuss the statistical significance of the overall regressions\n",
        "*   d.\tEvaluate the goodness of fit using R squared adjusted, interpret the meaning, compare to the R sq_adj from simple regression and conclude.\n",
        "\n",
        "\n",
        "\n"
      ],
      "metadata": {
        "id": "_TcZ4wdTnAqm"
      }
    },
    {
      "cell_type": "code",
      "source": [
        "model = smf.ols('wage ~ age + health_ins + education', data=data)\n",
        "result = model.fit()\n",
        "print(result.summary())\n"
      ],
      "metadata": {
        "colab": {
          "base_uri": "https://localhost:8080/"
        },
        "id": "YbjRhUbXnL68",
        "outputId": "33302ca2-ad14-4c85-c99f-76c3854c5ad9"
      },
      "execution_count": null,
      "outputs": [
        {
          "output_type": "stream",
          "name": "stdout",
          "text": [
            "                            OLS Regression Results                            \n",
            "==============================================================================\n",
            "Dep. Variable:                   wage   R-squared:                       0.299\n",
            "Model:                            OLS   Adj. R-squared:                  0.298\n",
            "Method:                 Least Squares   F-statistic:                     212.7\n",
            "Date:                Thu, 19 Sep 2024   Prob (F-statistic):          1.45e-226\n",
            "Time:                        20:47:49   Log-Likelihood:                -14917.\n",
            "No. Observations:                3000   AIC:                         2.985e+04\n",
            "Df Residuals:                    2993   BIC:                         2.989e+04\n",
            "Df Model:                           6                                         \n",
            "Covariance Type:            nonrobust                                         \n",
            "===================================================================================================\n",
            "                                      coef    std err          t      P>|t|      [0.025      0.975]\n",
            "---------------------------------------------------------------------------------------------------\n",
            "Intercept                          74.4687      3.340     22.298      0.000      67.920      81.017\n",
            "health_ins[T.2. No]               -18.6455      1.433    -13.011      0.000     -21.455     -15.836\n",
            "education[T.2. HS Grad]             8.3554      2.425      3.446      0.001       3.601      13.110\n",
            "education[T.3. Some College]       19.3087      2.567      7.523      0.000      14.276      24.341\n",
            "education[T.4. College Grad]       34.0909      2.558     13.328      0.000      29.076      39.106\n",
            "education[T.5. Advanced Degree]    58.5670      2.777     21.091      0.000      53.122      64.012\n",
            "age                                 0.4703      0.056      8.373      0.000       0.360       0.580\n",
            "==============================================================================\n",
            "Omnibus:                     1105.099   Durbin-Watson:                   1.961\n",
            "Prob(Omnibus):                  0.000   Jarque-Bera (JB):             6139.917\n",
            "Skew:                           1.655   Prob(JB):                         0.00\n",
            "Kurtosis:                       9.177   Cond. No.                         358.\n",
            "==============================================================================\n",
            "\n",
            "Notes:\n",
            "[1] Standard Errors assume that the covariance matrix of the errors is correctly specified.\n"
          ]
        }
      ]
    },
    {
      "cell_type": "markdown",
      "source": [
        "Intercept =74.4687: This represents the predicted wage when the individual has no health insurance, no formal education, and is 0 years old.\n",
        "\n",
        "Health Insurance (No: -18.6455): Individuals without health insurance earn about 18.65 units less than those with health insurance, all else being equal. This is statistically significant (p-value = 0.000).\n",
        "\n",
        "HS Grad (8.3554): High school graduates earn 8.36 units more than those with no formal education.\n",
        "\n",
        "Some College (19.3087): Those with some college education earn 19.31 units more.\n",
        "\n",
        "College Grad (34.0909): College graduates earn 34.09 units more.\n",
        "\n",
        "Advanced Degree (58.5670): Individuals with advanced degrees earn 58.57 units more.\n",
        "\n",
        "All education coefficients are highly significant, indicating a positive relationship between education level and wages. Higher levels of education lead to significantly higher wages.\n",
        "\n",
        "Age (0.4703): Each additional year of age is associated with an increase of 0.47 units in wages, holding all other factors constant. This is a statistically significant effect (p-value = 0.000).\n",
        "\n",
        "R-squared (0.299): Approximately 29.9% of the variance in wages is explained by age, health insurance, and education. These factors play an important role in determining wages.\n",
        "Adjusted R-squared (0.298): This is very close to the R-squared value, indicating the model is not overfitted by the inclusion of additional variables and provides a reliable explanation of wage variability."
      ],
      "metadata": {
        "id": "KZnyBoi0n7Bq"
      }
    },
    {
      "cell_type": "markdown",
      "source": [
        "3.\tRun a multiple regression using wage as dependent variable, age, sex and education and an interaction term between age and health_ins as explanatory variables\n",
        "\n",
        "\n",
        "*   a.\tInterpret the meaning of the coefficients\n",
        "*   b.\tDiscuss the statistical significance of the coefficient of the interaction term and conclude\n",
        "\n"
      ],
      "metadata": {
        "id": "y_3vOAgjoyz9"
      }
    },
    {
      "cell_type": "code",
      "source": [
        "model = smf.ols('wage ~ age * health_ins + sex + education', data=data)\n",
        "result = model.fit()\n",
        "print(result.summary())"
      ],
      "metadata": {
        "colab": {
          "base_uri": "https://localhost:8080/"
        },
        "id": "IZuo1C9Jo4cM",
        "outputId": "6b017923-c56e-4614-ccdf-b04fdcfcbc3e"
      },
      "execution_count": null,
      "outputs": [
        {
          "output_type": "stream",
          "name": "stdout",
          "text": [
            "                            OLS Regression Results                            \n",
            "==============================================================================\n",
            "Dep. Variable:                   wage   R-squared:                       0.299\n",
            "Model:                            OLS   Adj. R-squared:                  0.297\n",
            "Method:                 Least Squares   F-statistic:                     182.3\n",
            "Date:                Thu, 19 Sep 2024   Prob (F-statistic):          1.93e-225\n",
            "Time:                        20:55:29   Log-Likelihood:                -14917.\n",
            "No. Observations:                3000   AIC:                         2.985e+04\n",
            "Df Residuals:                    2992   BIC:                         2.990e+04\n",
            "Df Model:                           7                                         \n",
            "Covariance Type:            nonrobust                                         \n",
            "===================================================================================================\n",
            "                                      coef    std err          t      P>|t|      [0.025      0.975]\n",
            "---------------------------------------------------------------------------------------------------\n",
            "Intercept                          75.4731      3.860     19.555      0.000      67.905      83.041\n",
            "health_ins[T.2. No]               -21.1497      5.030     -4.204      0.000     -31.013     -11.286\n",
            "education[T.2. HS Grad]             8.3421      2.425      3.439      0.001       3.587      13.098\n",
            "education[T.3. Some College]       19.2728      2.568      7.505      0.000      14.238      24.308\n",
            "education[T.4. College Grad]       34.0185      2.562     13.278      0.000      28.995      39.042\n",
            "education[T.5. Advanced Degree]    58.4953      2.781     21.037      0.000      53.043      63.947\n",
            "age                                 0.4481      0.070      6.358      0.000       0.310       0.586\n",
            "age:health_ins[T.2. No]             0.0604      0.116      0.519      0.604      -0.168       0.289\n",
            "==============================================================================\n",
            "Omnibus:                     1103.933   Durbin-Watson:                   1.961\n",
            "Prob(Omnibus):                  0.000   Jarque-Bera (JB):             6123.154\n",
            "Skew:                           1.654   Prob(JB):                         0.00\n",
            "Kurtosis:                       9.168   Cond. No.                         432.\n",
            "==============================================================================\n",
            "\n",
            "Notes:\n",
            "[1] Standard Errors assume that the covariance matrix of the errors is correctly specified.\n"
          ]
        }
      ]
    },
    {
      "cell_type": "markdown",
      "source": [
        "Insurance (0.0604): This coefficient represents how the relationship between age and wage changes depending on health insurance status.\n",
        "The effect is not statistically significant (p-value = 0.604).\n",
        "\n",
        "Coefficient (-21.1497): In this model, the effect of not having health insurance on wages is more pronounced than in the previous model (from -18.65 to -21.15). It suggests that individuals without health insurance earn 21.15 units less than those with health insurance, and this effect remains highly statistically significant.\n",
        "\n",
        "Coefficient (0.4481): The effect of age on wages is slightly smaller in this model (from 0.4703 to 0.4481), but it remains statistically significant. Wages increase by about 0.45 units for each additional year of age, even when accounting for the interaction term with health insurance.\n",
        "\n",
        "The interaction term between age and health insurance is not statistically significant, meaning the effect of age on wages does not differ meaningfully based on whether an individual has health insurance or not."
      ],
      "metadata": {
        "id": "IWszEplppLba"
      }
    },
    {
      "cell_type": "markdown",
      "source": [
        "4.\tCreate a new variable called log_age equal to natural logarithm of age\n",
        "Sample code: dataset_name[log_variable_name]=np.log(dataset_name[variable_name])\n"
      ],
      "metadata": {
        "id": "2lkwgD18qPXW"
      }
    },
    {
      "cell_type": "code",
      "source": [
        "import numpy as np\n",
        "data['log_age'] = np.log(data['age'])"
      ],
      "metadata": {
        "id": "k09wwRPaqP6h"
      },
      "execution_count": null,
      "outputs": []
    },
    {
      "cell_type": "code",
      "source": [
        "5.\tRun  3 different multiple regression models using:\n",
        "a.\twage as dependent variable, log_age and health_ins as explanatory variables\n",
        "b.\tlogwage as dependent variable, age and health_ins as explanatory variables\n",
        "c.\tlogwage as dependent variable, log_age and health_ins as explanatory variables\n",
        "d.\tFor each of the three regression outputs Interpret the meaning of the coefficients\n"
      ],
      "metadata": {
        "id": "PdulFFaYqaRE"
      },
      "execution_count": null,
      "outputs": []
    },
    {
      "cell_type": "markdown",
      "source": [
        "5.\tRun  3 different multiple regression models using:\n",
        "\n",
        "*   a. wage as dependent variable, log_age and health_ins as explanatory\n",
        "\n",
        "*   b.\tlogwage as dependent variable, age and health_ins as explanatory variables\n",
        "\n",
        "\n",
        "*  c.\tlogwage as dependent variable, log_age and health_ins as expl\n",
        "d.\tFor each of the three regression outputs Interpret the meaning of the coefficients\n",
        "\n"
      ],
      "metadata": {
        "id": "eFdx8hi_qjrQ"
      }
    },
    {
      "cell_type": "code",
      "source": [
        "# a. Log_age and health_ins\n",
        "model = smf.ols('wage ~ log_age + health_ins', data=data)\n",
        "result = model.fit()\n",
        "print(result.summary())"
      ],
      "metadata": {
        "colab": {
          "base_uri": "https://localhost:8080/"
        },
        "id": "JpYiUtNYqkEt",
        "outputId": "e5b5fe73-7e28-4aa9-90c4-63e9dcb8b64b"
      },
      "execution_count": null,
      "outputs": [
        {
          "output_type": "stream",
          "name": "stdout",
          "text": [
            "                            OLS Regression Results                            \n",
            "==============================================================================\n",
            "Dep. Variable:                   wage   R-squared:                       0.128\n",
            "Model:                            OLS   Adj. R-squared:                  0.127\n",
            "Method:                 Least Squares   F-statistic:                     219.8\n",
            "Date:                Thu, 19 Sep 2024   Prob (F-statistic):           8.34e-90\n",
            "Time:                        21:04:54   Log-Likelihood:                -15245.\n",
            "No. Observations:                3000   AIC:                         3.050e+04\n",
            "Df Residuals:                    2997   BIC:                         3.051e+04\n",
            "Df Model:                           2                                         \n",
            "Covariance Type:            nonrobust                                         \n",
            "=======================================================================================\n",
            "                          coef    std err          t      P>|t|      [0.025      0.975]\n",
            "---------------------------------------------------------------------------------------\n",
            "Intercept              20.8683      9.389      2.223      0.026       2.459      39.277\n",
            "health_ins[T.2. No]   -25.1625      1.567    -16.063      0.000     -28.234     -22.091\n",
            "log_age                26.5728      2.500     10.628      0.000      21.670      31.475\n",
            "==============================================================================\n",
            "Omnibus:                     1184.690   Durbin-Watson:                   1.941\n",
            "Prob(Omnibus):                  0.000   Jarque-Bera (JB):             5740.508\n",
            "Skew:                           1.851   Prob(JB):                         0.00\n",
            "Kurtosis:                       8.676   Cond. No.                         52.7\n",
            "==============================================================================\n",
            "\n",
            "Notes:\n",
            "[1] Standard Errors assume that the covariance matrix of the errors is correctly specified.\n"
          ]
        }
      ]
    },
    {
      "cell_type": "code",
      "source": [
        "# b. Log_wage, age, and health_ins\n",
        "data['log_wage'] = np.log(data['wage'])\n",
        "model = smf.ols('log_wage ~ age + health_ins', data=data)\n",
        "result = model.fit()\n",
        "print(result.summary())"
      ],
      "metadata": {
        "colab": {
          "base_uri": "https://localhost:8080/"
        },
        "id": "sZ7HSVbUq7ec",
        "outputId": "be5b8905-3f39-4f9f-8514-fa649f6e8c14"
      },
      "execution_count": null,
      "outputs": [
        {
          "output_type": "stream",
          "name": "stdout",
          "text": [
            "                            OLS Regression Results                            \n",
            "==============================================================================\n",
            "Dep. Variable:               log_wage   R-squared:                       0.165\n",
            "Model:                            OLS   Adj. R-squared:                  0.164\n",
            "Method:                 Least Squares   F-statistic:                     295.1\n",
            "Date:                Thu, 19 Sep 2024   Prob (F-statistic):          9.96e-118\n",
            "Time:                        21:04:27   Log-Likelihood:                -852.16\n",
            "No. Observations:                3000   AIC:                             1710.\n",
            "Df Residuals:                    2997   BIC:                             1728.\n",
            "Df Model:                           2                                         \n",
            "Covariance Type:            nonrobust                                         \n",
            "=======================================================================================\n",
            "                          coef    std err          t      P>|t|      [0.025      0.975]\n",
            "---------------------------------------------------------------------------------------\n",
            "Intercept               4.5166      0.023    192.615      0.000       4.471       4.563\n",
            "health_ins[T.2. No]    -0.2639      0.013    -20.493      0.000      -0.289      -0.239\n",
            "age                     0.0051      0.001      9.995      0.000       0.004       0.006\n",
            "==============================================================================\n",
            "Omnibus:                      126.979   Durbin-Watson:                   1.967\n",
            "Prob(Omnibus):                  0.000   Jarque-Bera (JB):              396.447\n",
            "Skew:                           0.078   Prob(JB):                     8.18e-87\n",
            "Kurtosis:                       4.774   Cond. No.                         179.\n",
            "==============================================================================\n",
            "\n",
            "Notes:\n",
            "[1] Standard Errors assume that the covariance matrix of the errors is correctly specified.\n"
          ]
        }
      ]
    },
    {
      "cell_type": "code",
      "source": [
        "# c. Log_wage, log_age, and health_ins\n",
        "model = smf.ols('log_wage ~ log_age + health_ins', data=data)\n",
        "result = model.fit()\n",
        "print(result.summary())"
      ],
      "metadata": {
        "colab": {
          "base_uri": "https://localhost:8080/"
        },
        "id": "ym42Fy_8rAIx",
        "outputId": "e8582ad4-76da-4886-c048-8dd80354f2ed"
      },
      "execution_count": null,
      "outputs": [
        {
          "output_type": "stream",
          "name": "stdout",
          "text": [
            "                            OLS Regression Results                            \n",
            "==============================================================================\n",
            "Dep. Variable:               log_wage   R-squared:                       0.177\n",
            "Model:                            OLS   Adj. R-squared:                  0.176\n",
            "Method:                 Least Squares   F-statistic:                     322.2\n",
            "Date:                Thu, 19 Sep 2024   Prob (F-statistic):          1.84e-127\n",
            "Time:                        21:04:33   Log-Likelihood:                -829.72\n",
            "No. Observations:                3000   AIC:                             1665.\n",
            "Df Residuals:                    2997   BIC:                             1683.\n",
            "Df Model:                           2                                         \n",
            "Covariance Type:            nonrobust                                         \n",
            "=======================================================================================\n",
            "                          coef    std err          t      P>|t|      [0.025      0.975]\n",
            "---------------------------------------------------------------------------------------\n",
            "Intercept               3.8132      0.077     49.597      0.000       3.662       3.964\n",
            "health_ins[T.2. No]    -0.2565      0.013    -19.996      0.000      -0.282      -0.231\n",
            "log_age                 0.2479      0.020     12.106      0.000       0.208       0.288\n",
            "==============================================================================\n",
            "Omnibus:                      130.782   Durbin-Watson:                   1.964\n",
            "Prob(Omnibus):                  0.000   Jarque-Bera (JB):              421.167\n",
            "Skew:                           0.067   Prob(JB):                     3.51e-92\n",
            "Kurtosis:                       4.831   Cond. No.                         52.7\n",
            "==============================================================================\n",
            "\n",
            "Notes:\n",
            "[1] Standard Errors assume that the covariance matrix of the errors is correctly specified.\n"
          ]
        }
      ]
    },
    {
      "cell_type": "markdown",
      "source": [
        "6.\tSplit the data into training(first 2500 observations)/testing sets(last 500 observations)\n"
      ],
      "metadata": {
        "id": "5jEQuQEprnBW"
      }
    },
    {
      "cell_type": "code",
      "source": [
        "train_data = data[:-500]\n",
        "test_data = data[-500:]"
      ],
      "metadata": {
        "id": "z4rcpwoGrofD"
      },
      "execution_count": null,
      "outputs": []
    },
    {
      "cell_type": "markdown",
      "source": [
        "7.\tChoose all or several variables which you hypothesize to affect the wages and run a multiple regression using wage as dependent variable using the train data set"
      ],
      "metadata": {
        "id": "ZZtl852fsAJh"
      }
    },
    {
      "cell_type": "code",
      "source": [
        "model = smf.ols('wage ~ age + health_ins + education', data=train_data)\n",
        "result = model.fit()\n",
        "print(result.summary())"
      ],
      "metadata": {
        "colab": {
          "base_uri": "https://localhost:8080/"
        },
        "id": "LAb04-FjsA0p",
        "outputId": "616fd1e4-0802-412e-b2df-2e89f0f095f6"
      },
      "execution_count": null,
      "outputs": [
        {
          "output_type": "stream",
          "name": "stdout",
          "text": [
            "                            OLS Regression Results                            \n",
            "==============================================================================\n",
            "Dep. Variable:                   wage   R-squared:                       0.297\n",
            "Model:                            OLS   Adj. R-squared:                  0.295\n",
            "Method:                 Least Squares   F-statistic:                     175.4\n",
            "Date:                Thu, 19 Sep 2024   Prob (F-statistic):          1.62e-186\n",
            "Time:                        21:21:02   Log-Likelihood:                -12414.\n",
            "No. Observations:                2500   AIC:                         2.484e+04\n",
            "Df Residuals:                    2493   BIC:                         2.488e+04\n",
            "Df Model:                           6                                         \n",
            "Covariance Type:            nonrobust                                         \n",
            "===================================================================================================\n",
            "                                      coef    std err          t      P>|t|      [0.025      0.975]\n",
            "---------------------------------------------------------------------------------------------------\n",
            "Intercept                          76.7401      3.624     21.177      0.000      69.634      83.846\n",
            "health_ins[T.2. No]               -20.2036      1.559    -12.963      0.000     -23.260     -17.147\n",
            "education[T.2. HS Grad]             8.7908      2.613      3.365      0.001       3.667      13.914\n",
            "education[T.3. Some College]       17.9613      2.775      6.472      0.000      12.519      23.404\n",
            "education[T.4. College Grad]       34.4628      2.750     12.530      0.000      29.069      39.856\n",
            "education[T.5. Advanced Degree]    57.3066      3.015     19.009      0.000      51.395      63.218\n",
            "age                                 0.4319      0.061      7.060      0.000       0.312       0.552\n",
            "==============================================================================\n",
            "Omnibus:                      872.257   Durbin-Watson:                   1.938\n",
            "Prob(Omnibus):                  0.000   Jarque-Bera (JB):             4484.627\n",
            "Skew:                           1.577   Prob(JB):                         0.00\n",
            "Kurtosis:                       8.754   Cond. No.                         355.\n",
            "==============================================================================\n",
            "\n",
            "Notes:\n",
            "[1] Standard Errors assume that the covariance matrix of the errors is correctly specified.\n"
          ]
        }
      ]
    },
    {
      "cell_type": "markdown",
      "source": [
        "8.\tUse the model from the previous step and independent variables from the test data set to get predicted wages"
      ],
      "metadata": {
        "id": "W4q5wGKVsMVh"
      }
    },
    {
      "cell_type": "code",
      "source": [
        "wage_pred_test = result.predict(test_data)\n",
        "wage_pred_test"
      ],
      "metadata": {
        "colab": {
          "base_uri": "https://localhost:8080/",
          "height": 458
        },
        "id": "UGZpa8GisMua",
        "outputId": "3687a58d-a68a-49aa-fb6d-cb2935a3ce66"
      },
      "execution_count": null,
      "outputs": [
        {
          "output_type": "execute_result",
          "data": {
            "text/plain": [
              "2500    114.136416\n",
              "2501     79.579635\n",
              "2502     96.524145\n",
              "2503     78.130927\n",
              "2504    103.670229\n",
              "           ...    \n",
              "2995    113.704527\n",
              "2996     78.283971\n",
              "2997     68.197499\n",
              "2998    106.362428\n",
              "2999    109.284775\n",
              "Length: 500, dtype: float64"
            ],
            "text/html": [
              "<div>\n",
              "<style scoped>\n",
              "    .dataframe tbody tr th:only-of-type {\n",
              "        vertical-align: middle;\n",
              "    }\n",
              "\n",
              "    .dataframe tbody tr th {\n",
              "        vertical-align: top;\n",
              "    }\n",
              "\n",
              "    .dataframe thead th {\n",
              "        text-align: right;\n",
              "    }\n",
              "</style>\n",
              "<table border=\"1\" class=\"dataframe\">\n",
              "  <thead>\n",
              "    <tr style=\"text-align: right;\">\n",
              "      <th></th>\n",
              "      <th>0</th>\n",
              "    </tr>\n",
              "  </thead>\n",
              "  <tbody>\n",
              "    <tr>\n",
              "      <th>2500</th>\n",
              "      <td>114.136416</td>\n",
              "    </tr>\n",
              "    <tr>\n",
              "      <th>2501</th>\n",
              "      <td>79.579635</td>\n",
              "    </tr>\n",
              "    <tr>\n",
              "      <th>2502</th>\n",
              "      <td>96.524145</td>\n",
              "    </tr>\n",
              "    <tr>\n",
              "      <th>2503</th>\n",
              "      <td>78.130927</td>\n",
              "    </tr>\n",
              "    <tr>\n",
              "      <th>2504</th>\n",
              "      <td>103.670229</td>\n",
              "    </tr>\n",
              "    <tr>\n",
              "      <th>...</th>\n",
              "      <td>...</td>\n",
              "    </tr>\n",
              "    <tr>\n",
              "      <th>2995</th>\n",
              "      <td>113.704527</td>\n",
              "    </tr>\n",
              "    <tr>\n",
              "      <th>2996</th>\n",
              "      <td>78.283971</td>\n",
              "    </tr>\n",
              "    <tr>\n",
              "      <th>2997</th>\n",
              "      <td>68.197499</td>\n",
              "    </tr>\n",
              "    <tr>\n",
              "      <th>2998</th>\n",
              "      <td>106.362428</td>\n",
              "    </tr>\n",
              "    <tr>\n",
              "      <th>2999</th>\n",
              "      <td>109.284775</td>\n",
              "    </tr>\n",
              "  </tbody>\n",
              "</table>\n",
              "<p>500 rows × 1 columns</p>\n",
              "</div><br><label><b>dtype:</b> float64</label>"
            ]
          },
          "metadata": {},
          "execution_count": 26
        }
      ]
    },
    {
      "cell_type": "markdown",
      "source": [
        "9.\tCalculate mse using the predictions form the previous step and actual wages from the test data set"
      ],
      "metadata": {
        "id": "C8M_QecGsY8R"
      }
    },
    {
      "cell_type": "code",
      "source": [
        "from statsmodels.tools.eval_measures import mse\n",
        "\n",
        "mse_value = mse(test_data['wage'], wage_pred_test)\n",
        "print(mse_value)"
      ],
      "metadata": {
        "colab": {
          "base_uri": "https://localhost:8080/"
        },
        "id": "epb6dtA4sZg1",
        "outputId": "08176427-4045-481e-94be-5901ec386928"
      },
      "execution_count": null,
      "outputs": [
        {
          "output_type": "stream",
          "name": "stdout",
          "text": [
            "1309.1812169466843\n"
          ]
        }
      ]
    },
    {
      "cell_type": "markdown",
      "source": [
        "10.\tSelect different sets of independent variables(may also try including interaction terms) and repeat the steps 7,8,and 9. Based on the MSE choose the model which performs better on the test set."
      ],
      "metadata": {
        "id": "eNceZbmOs6_D"
      }
    },
    {
      "cell_type": "code",
      "source": [
        "model1 = smf.ols('wage ~ health_ins + education', data=train_data)\n",
        "result1 = model1.fit()\n",
        "print(result1.summary())"
      ],
      "metadata": {
        "colab": {
          "base_uri": "https://localhost:8080/"
        },
        "id": "VCH_8rBbs7pK",
        "outputId": "3dace8a7-ffa5-4789-83fe-5fc69dddcf47"
      },
      "execution_count": null,
      "outputs": [
        {
          "output_type": "stream",
          "name": "stdout",
          "text": [
            "                            OLS Regression Results                            \n",
            "==============================================================================\n",
            "Dep. Variable:                   wage   R-squared:                       0.283\n",
            "Model:                            OLS   Adj. R-squared:                  0.281\n",
            "Method:                 Least Squares   F-statistic:                     196.6\n",
            "Date:                Thu, 19 Sep 2024   Prob (F-statistic):          5.21e-177\n",
            "Time:                        21:39:05   Log-Likelihood:                -12439.\n",
            "No. Observations:                2500   AIC:                         2.489e+04\n",
            "Df Residuals:                    2494   BIC:                         2.492e+04\n",
            "Df Model:                           5                                         \n",
            "Covariance Type:            nonrobust                                         \n",
            "===================================================================================================\n",
            "                                      coef    std err          t      P>|t|      [0.025      0.975]\n",
            "---------------------------------------------------------------------------------------------------\n",
            "Intercept                          95.7091      2.455     38.980      0.000      90.894     100.524\n",
            "health_ins[T.2. No]               -21.6780      1.560    -13.900      0.000     -24.736     -18.620\n",
            "education[T.2. HS Grad]             8.6932      2.638      3.295      0.001       3.520      13.866\n",
            "education[T.3. Some College]       17.0000      2.799      6.073      0.000      11.511      22.489\n",
            "education[T.4. College Grad]       34.2719      2.777     12.341      0.000      28.826      39.718\n",
            "education[T.5. Advanced Degree]    58.2076      3.041     19.139      0.000      52.244      64.172\n",
            "==============================================================================\n",
            "Omnibus:                      857.700   Durbin-Watson:                   1.952\n",
            "Prob(Omnibus):                  0.000   Jarque-Bera (JB):             4212.945\n",
            "Skew:                           1.564   Prob(JB):                         0.00\n",
            "Kurtosis:                       8.537   Cond. No.                         9.06\n",
            "==============================================================================\n",
            "\n",
            "Notes:\n",
            "[1] Standard Errors assume that the covariance matrix of the errors is correctly specified.\n"
          ]
        }
      ]
    },
    {
      "cell_type": "code",
      "source": [
        "wage_pred_test_1 = result1.predict(test_data)\n",
        "wage_pred_test_1"
      ],
      "metadata": {
        "colab": {
          "base_uri": "https://localhost:8080/",
          "height": 458
        },
        "id": "snb6TGZguojt",
        "outputId": "63a8a9c7-3022-4ce4-bb5c-ff8f9d320e51"
      },
      "execution_count": null,
      "outputs": [
        {
          "output_type": "execute_result",
          "data": {
            "text/plain": [
              "2500    112.709123\n",
              "2501     82.724282\n",
              "2502     91.031119\n",
              "2503     74.031111\n",
              "2504    104.402286\n",
              "           ...    \n",
              "2995    112.709123\n",
              "2996     82.724282\n",
              "2997     74.031111\n",
              "2998    112.709123\n",
              "2999    104.402286\n",
              "Length: 500, dtype: float64"
            ],
            "text/html": [
              "<div>\n",
              "<style scoped>\n",
              "    .dataframe tbody tr th:only-of-type {\n",
              "        vertical-align: middle;\n",
              "    }\n",
              "\n",
              "    .dataframe tbody tr th {\n",
              "        vertical-align: top;\n",
              "    }\n",
              "\n",
              "    .dataframe thead th {\n",
              "        text-align: right;\n",
              "    }\n",
              "</style>\n",
              "<table border=\"1\" class=\"dataframe\">\n",
              "  <thead>\n",
              "    <tr style=\"text-align: right;\">\n",
              "      <th></th>\n",
              "      <th>0</th>\n",
              "    </tr>\n",
              "  </thead>\n",
              "  <tbody>\n",
              "    <tr>\n",
              "      <th>2500</th>\n",
              "      <td>112.709123</td>\n",
              "    </tr>\n",
              "    <tr>\n",
              "      <th>2501</th>\n",
              "      <td>82.724282</td>\n",
              "    </tr>\n",
              "    <tr>\n",
              "      <th>2502</th>\n",
              "      <td>91.031119</td>\n",
              "    </tr>\n",
              "    <tr>\n",
              "      <th>2503</th>\n",
              "      <td>74.031111</td>\n",
              "    </tr>\n",
              "    <tr>\n",
              "      <th>2504</th>\n",
              "      <td>104.402286</td>\n",
              "    </tr>\n",
              "    <tr>\n",
              "      <th>...</th>\n",
              "      <td>...</td>\n",
              "    </tr>\n",
              "    <tr>\n",
              "      <th>2995</th>\n",
              "      <td>112.709123</td>\n",
              "    </tr>\n",
              "    <tr>\n",
              "      <th>2996</th>\n",
              "      <td>82.724282</td>\n",
              "    </tr>\n",
              "    <tr>\n",
              "      <th>2997</th>\n",
              "      <td>74.031111</td>\n",
              "    </tr>\n",
              "    <tr>\n",
              "      <th>2998</th>\n",
              "      <td>112.709123</td>\n",
              "    </tr>\n",
              "    <tr>\n",
              "      <th>2999</th>\n",
              "      <td>104.402286</td>\n",
              "    </tr>\n",
              "  </tbody>\n",
              "</table>\n",
              "<p>500 rows × 1 columns</p>\n",
              "</div><br><label><b>dtype:</b> float64</label>"
            ]
          },
          "metadata": {},
          "execution_count": 32
        }
      ]
    },
    {
      "cell_type": "code",
      "source": [
        "mse_1_value = mse(test_data['wage'], wage_pred_test_1)\n",
        "print(mse_1_value)"
      ],
      "metadata": {
        "colab": {
          "base_uri": "https://localhost:8080/"
        },
        "id": "guKkCWaiu3pt",
        "outputId": "4b793f13-863a-44e9-a796-86af24140c9f"
      },
      "execution_count": null,
      "outputs": [
        {
          "output_type": "stream",
          "name": "stdout",
          "text": [
            "1359.205667559861\n"
          ]
        }
      ]
    },
    {
      "cell_type": "markdown",
      "source": [
        "Removing age we can see that mse value becomes 1360 from 1310. This suggests that age is an important predictor in the regression model."
      ],
      "metadata": {
        "id": "FUcnpM8ZzPag"
      }
    }
  ]
}